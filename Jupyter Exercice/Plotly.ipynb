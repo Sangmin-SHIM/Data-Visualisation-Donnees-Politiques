{
 "cells": [
  {
   "cell_type": "code",
   "execution_count": 1,
   "id": "e5e9d8bc",
   "metadata": {},
   "outputs": [
    {
     "name": "stdout",
     "output_type": "stream",
     "text": [
      "Requirement already satisfied: plotly in c:\\users\\ssm47\\anaconda3\\lib\\site-packages (5.5.0)Note: you may need to restart the kernel to use updated packages.\n",
      "Requirement already satisfied: six in c:\\users\\ssm47\\anaconda3\\lib\\site-packages (from plotly) (1.16.0)\n",
      "Requirement already satisfied: tenacity>=6.2.0 in c:\\users\\ssm47\\anaconda3\\lib\\site-packages (from plotly) (8.0.1)\n",
      "\n"
     ]
    }
   ],
   "source": [
    "pip install plotly"
   ]
  },
  {
   "cell_type": "code",
   "execution_count": 2,
   "id": "fa941fc9",
   "metadata": {},
   "outputs": [],
   "source": [
    "import plotly.express as px\n",
    "import pandas as pd\n",
    "import plotly\n",
    "from pprint import pprint"
   ]
  },
  {
   "cell_type": "markdown",
   "id": "f88eb1cc",
   "metadata": {},
   "source": [
    "# Pandas"
   ]
  },
  {
   "cell_type": "code",
   "execution_count": 3,
   "id": "ea078959",
   "metadata": {},
   "outputs": [],
   "source": [
    "excel_tour1 = pd.ExcelFile('Presidentielle_2017_Resultats_Tour_1_md.xls')"
   ]
  },
  {
   "cell_type": "code",
   "execution_count": 4,
   "id": "c97cebd6",
   "metadata": {},
   "outputs": [],
   "source": [
    "dataframe_region=pd.read_excel(excel_tour1,sheet_name = [1])\n",
    "\n",
    "\n",
    "for i in range(len(dataframe_region[1])):\n",
    "     globals()['resultats_'+ str(dataframe_region[1].iloc[i][\"Code de la région\"])] = dataframe_region[1].iloc[i]\n",
    "     # variables : resultats_11, resultats_44, resultats_75 ... resultats_6   \n",
    "     # Dictionnary     \n",
    "     globals()['resultats_'+ str(dataframe_region[1].iloc[i][\"Code de la région\"])] = pd.DataFrame({'Nom' : {0 : globals()['resultats_'+ str(dataframe_region[1].iloc[i][\"Code de la région\"])]['Nom'],\n",
    "                                                                                                1 : globals()['resultats_'+ str(dataframe_region[1].iloc[i][\"Code de la région\"])]['Nom.1'],\n",
    "                                                                                                2 : globals()['resultats_'+ str(dataframe_region[1].iloc[i][\"Code de la région\"])]['Nom.2'],\n",
    "                                                                                                3 : globals()['resultats_'+ str(dataframe_region[1].iloc[i][\"Code de la région\"])]['Nom.3'],\n",
    "                                                                                                4 : globals()['resultats_'+ str(dataframe_region[1].iloc[i][\"Code de la région\"])]['Nom.4'],\n",
    "                                                                                                5 : globals()['resultats_'+ str(dataframe_region[1].iloc[i][\"Code de la région\"])]['Nom.5'],\n",
    "                                                                                                6 : globals()['resultats_'+ str(dataframe_region[1].iloc[i][\"Code de la région\"])]['Nom.6'],\n",
    "                                                                                                7 : globals()['resultats_'+ str(dataframe_region[1].iloc[i][\"Code de la région\"])]['Nom.7'],\n",
    "                                                                                                8 : globals()['resultats_'+ str(dataframe_region[1].iloc[i][\"Code de la région\"])]['Nom.8'],\n",
    "                                                                                                9 : globals()['resultats_'+ str(dataframe_region[1].iloc[i][\"Code de la région\"])]['Nom.9'],\n",
    "                                                                                                10 : globals()['resultats_'+ str(dataframe_region[1].iloc[i][\"Code de la région\"])]['Nom.10']\n",
    "                                                                                                },\n",
    "                                                                                       'Prénom' : {0 : globals()['resultats_'+ str(dataframe_region[1].iloc[i][\"Code de la région\"])]['Prénom'],\n",
    "                                                                                                1 : globals()['resultats_'+ str(dataframe_region[1].iloc[i][\"Code de la région\"])]['Prénom.1'],\n",
    "                                                                                                2 : globals()['resultats_'+ str(dataframe_region[1].iloc[i][\"Code de la région\"])]['Prénom.2'],\n",
    "                                                                                                3 : globals()['resultats_'+ str(dataframe_region[1].iloc[i][\"Code de la région\"])]['Prénom.3'],\n",
    "                                                                                                4 : globals()['resultats_'+ str(dataframe_region[1].iloc[i][\"Code de la région\"])]['Prénom.4'],\n",
    "                                                                                                5 : globals()['resultats_'+ str(dataframe_region[1].iloc[i][\"Code de la région\"])]['Prénom.5'],\n",
    "                                                                                                6 : globals()['resultats_'+ str(dataframe_region[1].iloc[i][\"Code de la région\"])]['Prénom.6'],\n",
    "                                                                                                7 : globals()['resultats_'+ str(dataframe_region[1].iloc[i][\"Code de la région\"])]['Prénom.7'],\n",
    "                                                                                                8 : globals()['resultats_'+ str(dataframe_region[1].iloc[i][\"Code de la région\"])]['Prénom.8'],\n",
    "                                                                                                9 : globals()['resultats_'+ str(dataframe_region[1].iloc[i][\"Code de la région\"])]['Prénom.9'],\n",
    "                                                                                                10 : globals()['resultats_'+ str(dataframe_region[1].iloc[i][\"Code de la région\"])]['Prénom.10']\n",
    "                                                                                                },\n",
    "                                                                                       '% Voix/Ins' : {0 : globals()['resultats_'+ str(dataframe_region[1].iloc[i][\"Code de la région\"])]['% Voix/Ins'],\n",
    "                                                                                                1 : globals()['resultats_'+ str(dataframe_region[1].iloc[i][\"Code de la région\"])]['% Voix/Ins.1'],\n",
    "                                                                                                2 : globals()['resultats_'+ str(dataframe_region[1].iloc[i][\"Code de la région\"])]['% Voix/Ins.2'],\n",
    "                                                                                                3 : globals()['resultats_'+ str(dataframe_region[1].iloc[i][\"Code de la région\"])]['% Voix/Ins.3'],\n",
    "                                                                                                4 : globals()['resultats_'+ str(dataframe_region[1].iloc[i][\"Code de la région\"])]['% Voix/Ins.4'],\n",
    "                                                                                                5 : globals()['resultats_'+ str(dataframe_region[1].iloc[i][\"Code de la région\"])]['% Voix/Ins.5'],\n",
    "                                                                                                6 : globals()['resultats_'+ str(dataframe_region[1].iloc[i][\"Code de la région\"])]['% Voix/Ins.6'],\n",
    "                                                                                                7 : globals()['resultats_'+ str(dataframe_region[1].iloc[i][\"Code de la région\"])]['% Voix/Ins.7'],\n",
    "                                                                                                8 : globals()['resultats_'+ str(dataframe_region[1].iloc[i][\"Code de la région\"])]['% Voix/Ins.8'],\n",
    "                                                                                                9 : globals()['resultats_'+ str(dataframe_region[1].iloc[i][\"Code de la région\"])]['% Voix/Ins.9'],\n",
    "                                                                                                10 : globals()['resultats_'+ str(dataframe_region[1].iloc[i][\"Code de la région\"])]['% Voix/Ins.10']\n",
    "                                                                                                }\n",
    "                                                                                      })"
   ]
  },
  {
   "cell_type": "code",
   "execution_count": 347,
   "id": "33eb38d3",
   "metadata": {},
   "outputs": [],
   "source": [
    "# for i in range(len(dataframe_region[1])):\n",
    "#     resultats = globals()['resultats_'+ str(dataframe_region[1].iloc[i][\"Code de la région\"])]\n",
    "#     fig = px.pie(resultats, values='% Voix/Ins', names='Nom', title='% Voix/Ins')\n",
    "#     fig.update_traces(textinfo='value')\n",
    "#     fig.write_html(\"resultats/resultats_\"+str(dataframe_region[1].iloc[i][\"Code de la région\"])+\".html\")\n"
   ]
  },
  {
   "cell_type": "code",
   "execution_count": 7,
   "id": "2bf100a3",
   "metadata": {},
   "outputs": [],
   "source": [
    "for i in range(len(dataframe_region[1])):\n",
    "    resultats = globals()['resultats_'+ str(dataframe_region[1].iloc[i][\"Code de la région\"])]\n",
    "    fig = px.pie(resultats, values='% Voix/Ins', names='Nom', title='% Voix/Ins',\n",
    "                 color='Nom',\n",
    "                 color_discrete_map={'DUPONT' : 'black',\n",
    "                                     'LE PEN' : 'blue',\n",
    "                                     'MACRON' : 'red',\n",
    "                                     'HAMON' : 'grey',\n",
    "                                     'ARTHAUD' : 'yellow',\n",
    "                                     'POUTOU' : 'green', \n",
    "                                     'CHEMINADE' : 'gold', \n",
    "                                     'LASSALLE' : 'purple',\n",
    "                                     'MÉLENCHON' : 'lightblue',\n",
    "                                     'ASSELINEAU' : 'pink',\n",
    "                                     'FILLON' : 'green'})\n",
    "    fig.update_traces(textinfo='value')\n",
    "    fig.write_html(\"resultats/resultats_\"+str(i)+\".html\")\n"
   ]
  }
 ],
 "metadata": {
  "kernelspec": {
   "display_name": "Python 3 (ipykernel)",
   "language": "python",
   "name": "python3"
  },
  "language_info": {
   "codemirror_mode": {
    "name": "ipython",
    "version": 3
   },
   "file_extension": ".py",
   "mimetype": "text/x-python",
   "name": "python",
   "nbconvert_exporter": "python",
   "pygments_lexer": "ipython3",
   "version": "3.9.7"
  }
 },
 "nbformat": 4,
 "nbformat_minor": 5
}

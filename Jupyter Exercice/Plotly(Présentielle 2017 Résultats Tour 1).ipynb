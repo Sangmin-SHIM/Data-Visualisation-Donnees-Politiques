{
 "cells": [
  {
   "cell_type": "code",
   "execution_count": 1,
   "id": "e5e9d8bc",
   "metadata": {},
   "outputs": [
    {
     "name": "stdout",
     "output_type": "stream",
     "text": [
      "Requirement already satisfied: plotly in c:\\users\\ssm47\\anaconda3\\lib\\site-packages (5.5.0)Note: you may need to restart the kernel to use updated packages.\n",
      "Requirement already satisfied: six in c:\\users\\ssm47\\anaconda3\\lib\\site-packages (from plotly) (1.16.0)\n",
      "Requirement already satisfied: tenacity>=6.2.0 in c:\\users\\ssm47\\anaconda3\\lib\\site-packages (from plotly) (8.0.1)\n",
      "\n"
     ]
    }
   ],
   "source": [
    "pip install plotly"
   ]
  },
  {
   "cell_type": "code",
   "execution_count": 1,
   "id": "fa941fc9",
   "metadata": {},
   "outputs": [],
   "source": [
    "import plotly.express as px\n",
    "import pandas as pd\n",
    "import plotly\n",
    "from pprint import pprint"
   ]
  },
  {
   "cell_type": "markdown",
   "id": "f88eb1cc",
   "metadata": {},
   "source": [
    "# Pandas"
   ]
  },
  {
   "cell_type": "code",
   "execution_count": 5,
   "id": "ea078959",
   "metadata": {},
   "outputs": [
    {
     "data": {
      "text/plain": [
       "{1:     Code de la région        Libellé de la région  Inscrits  Abstentions  \\\n",
       " 0                  44                   Grand Est   3873402       825831   \n",
       " 1                  75          Nouvelle-Aquitaine   4329942       846148   \n",
       " 2                  84     Auvergne et Rhône-Alpes   5416712      1119551   \n",
       " 3                  27     Bourgogne-Franche-Comté   2001656       412997   \n",
       " 4                  53                    Bretagne   2453683       405071   \n",
       " 5                  24         Centre-Val de Loire   1827657       360765   \n",
       " 6                  11               Île-de-France   7199231      1447722   \n",
       " 7                  76                   Occitanie   4194294       794467   \n",
       " 8                  32             Hauts-de-France   4241887       925193   \n",
       " 9                  28                   Normandie   2398182       458364   \n",
       " 10                 52            Pays de la Loire   2705170       452471   \n",
       " 11                 93  Provence-Alpes-Côte d'Azur   3567740       756902   \n",
       " 12                 94                       Corse    233656        74665   \n",
       " 13                  1                  Guadeloupe    316345       189694   \n",
       " 14                  2                  Martinique    310812       186855   \n",
       " 15                  3                      Guyane     92935        61010   \n",
       " 16                  4                  La Réunion    639481       264229   \n",
       " 17                  6                     Mayotte     83047        46860   \n",
       " \n",
       "     % Abs/Ins  Votants  % Vot/Ins  Blancs  % Blancs/Ins  % Blancs/Vot  ...  \\\n",
       " 0       21.32  3047571      78.68   55656          1.44          1.83  ...   \n",
       " 1       19.54  3483794      80.46   63983          1.48          1.84  ...   \n",
       " 2       20.67  4297161      79.33   78647          1.45          1.83  ...   \n",
       " 3       20.63  1588659      79.37   31180          1.56          1.96  ...   \n",
       " 4       16.51  2048612      83.49   34417          1.40          1.68  ...   \n",
       " 5       19.74  1466892      80.26   27910          1.53          1.90  ...   \n",
       " 6       20.11  5751509      79.89   87595          1.22          1.52  ...   \n",
       " 7       18.94  3399827      81.06   56860          1.36          1.67  ...   \n",
       " 8       21.81  3316694      78.19   58622          1.38          1.77  ...   \n",
       " 9       19.11  1939818      80.89   35209          1.47          1.82  ...   \n",
       " 10      16.73  2252699      83.27   44175          1.63          1.96  ...   \n",
       " 11      21.22  2810838      78.78   44480          1.25          1.58  ...   \n",
       " 12      31.96   158991      68.04    2874          1.23          1.81  ...   \n",
       " 13      59.96   126651      40.04    5630          1.78          4.45  ...   \n",
       " 14      60.12   123957      39.88    8152          2.62          6.58  ...   \n",
       " 15      65.65    31925      34.35    3831          4.12         12.00  ...   \n",
       " 16      41.32   375252      58.68   11468          1.79          3.06  ...   \n",
       " 17      56.43    36187      43.57     925          1.11          2.56  ...   \n",
       " \n",
       "     Prénom.9  Voix.9  % Voix/Ins.9  % Voix/Exp.9  Sexe.10     Nom.10  \\\n",
       " 0   Nathalie   24272          0.63          0.82        M  CHEMINADE   \n",
       " 1   Nathalie   21439          0.50          0.63        M  CHEMINADE   \n",
       " 2   Nathalie   24656          0.46          0.59        M  CHEMINADE   \n",
       " 3   Nathalie   11496          0.57          0.74        M  CHEMINADE   \n",
       " 4   François   13419          0.55          0.67        M  CHEMINADE   \n",
       " 5   Nathalie   11365          0.62          0.80        M  CHEMINADE   \n",
       " 6   Nathalie   23582          0.33          0.42        M  CHEMINADE   \n",
       " 7   Nathalie   16776          0.40          0.51        M  CHEMINADE   \n",
       " 8       Jean   22410          0.53          0.69        M  CHEMINADE   \n",
       " 9       Jean   13896          0.58          0.73        M  CHEMINADE   \n",
       " 10  François   15529          0.57          0.71        M  CHEMINADE   \n",
       " 11  Nathalie   10437          0.29          0.38        M  CHEMINADE   \n",
       " 12  Nathalie     495          0.21          0.32        M  CHEMINADE   \n",
       " 13      Jean     650          0.21          0.58        M  CHEMINADE   \n",
       " 14      Jean     870          0.28          0.80        M  CHEMINADE   \n",
       " 15      Jean     273          0.29          1.02        M  CHEMINADE   \n",
       " 16      Jean    1939          0.30          0.55        M  CHEMINADE   \n",
       " 17      Jean     182          0.22          0.55        M  CHEMINADE   \n",
       " \n",
       "    Prénom.10 Voix.10 % Voix/Ins.10  % Voix/Exp.10  \n",
       " 0    Jacques    6078          0.16           0.20  \n",
       " 1    Jacques    6262          0.14           0.18  \n",
       " 2    Jacques    7597          0.14           0.18  \n",
       " 3    Jacques    2843          0.14           0.18  \n",
       " 4    Jacques    3400          0.14           0.17  \n",
       " 5    Jacques    2882          0.16           0.20  \n",
       " 6    Jacques    9795          0.14           0.17  \n",
       " 7    Jacques    5524          0.13           0.17  \n",
       " 8    Jacques    5688          0.13           0.18  \n",
       " 9    Jacques    3544          0.15           0.19  \n",
       " 10   Jacques    3731          0.14           0.17  \n",
       " 11   Jacques    4569          0.13           0.17  \n",
       " 12   Jacques     253          0.11           0.16  \n",
       " 13   Jacques     326          0.10           0.29  \n",
       " 14   Jacques     373          0.12           0.34  \n",
       " 15   Jacques      98          0.11           0.37  \n",
       " 16   Jacques     944          0.15           0.27  \n",
       " 17   Jacques     163          0.20           0.49  \n",
       " \n",
       " [18 rows x 82 columns]}"
      ]
     },
     "execution_count": 5,
     "metadata": {},
     "output_type": "execute_result"
    }
   ],
   "source": [
    "excel_tour1 = pd.ExcelFile('Presidentielle_2017_Resultats_Tour_1_md.xls')\n",
    "\n",
    "\n",
    "\n",
    "# print(len(dataframe_region[1]),len(dataframe_region))\n",
    "# print(type(dataframe_region[1]),type(dataframe_region))\n",
    "# print(dataframe_region[1],dataframe_region)\n",
    "\n",
    "dataframe_region"
   ]
  },
  {
   "cell_type": "code",
   "execution_count": 4,
   "id": "c97cebd6",
   "metadata": {},
   "outputs": [],
   "source": [
    "dataframe_region=pd.read_excel(excel_tour1,sheet_name = [1])\n",
    "\n",
    "\n",
    "for i in range(len(dataframe_region[1])):\n",
    "     globals()['resultats_'+ str(dataframe_region[1].iloc[i][\"Code de la région\"])] = dataframe_region[1].iloc[i]\n",
    "     # variables : resultats_11, resultats_44, resultats_75 ... resultats_6   \n",
    "     # Series(1 Array) -> DataFrame(2 Arrays)\n",
    "     globals()['resultats_'+ str(dataframe_region[1].iloc[i][\"Code de la région\"])] = pd.DataFrame({'Nom' : {0 : globals()['resultats_'+ str(dataframe_region[1].iloc[i][\"Code de la région\"])]['Nom'],\n",
    "                                                                                                1 : globals()['resultats_'+ str(dataframe_region[1].iloc[i][\"Code de la région\"])]['Nom.1'],\n",
    "                                                                                                2 : globals()['resultats_'+ str(dataframe_region[1].iloc[i][\"Code de la région\"])]['Nom.2'],\n",
    "                                                                                                3 : globals()['resultats_'+ str(dataframe_region[1].iloc[i][\"Code de la région\"])]['Nom.3'],\n",
    "                                                                                                4 : globals()['resultats_'+ str(dataframe_region[1].iloc[i][\"Code de la région\"])]['Nom.4'],\n",
    "                                                                                                5 : globals()['resultats_'+ str(dataframe_region[1].iloc[i][\"Code de la région\"])]['Nom.5'],\n",
    "                                                                                                6 : globals()['resultats_'+ str(dataframe_region[1].iloc[i][\"Code de la région\"])]['Nom.6'],\n",
    "                                                                                                7 : globals()['resultats_'+ str(dataframe_region[1].iloc[i][\"Code de la région\"])]['Nom.7'],\n",
    "                                                                                                8 : globals()['resultats_'+ str(dataframe_region[1].iloc[i][\"Code de la région\"])]['Nom.8'],\n",
    "                                                                                                9 : globals()['resultats_'+ str(dataframe_region[1].iloc[i][\"Code de la région\"])]['Nom.9'],\n",
    "                                                                                                10 : globals()['resultats_'+ str(dataframe_region[1].iloc[i][\"Code de la région\"])]['Nom.10']\n",
    "                                                                                                },\n",
    "                                                                                       'Prénom' : {0 : globals()['resultats_'+ str(dataframe_region[1].iloc[i][\"Code de la région\"])]['Prénom'],\n",
    "                                                                                                1 : globals()['resultats_'+ str(dataframe_region[1].iloc[i][\"Code de la région\"])]['Prénom.1'],\n",
    "                                                                                                2 : globals()['resultats_'+ str(dataframe_region[1].iloc[i][\"Code de la région\"])]['Prénom.2'],\n",
    "                                                                                                3 : globals()['resultats_'+ str(dataframe_region[1].iloc[i][\"Code de la région\"])]['Prénom.3'],\n",
    "                                                                                                4 : globals()['resultats_'+ str(dataframe_region[1].iloc[i][\"Code de la région\"])]['Prénom.4'],\n",
    "                                                                                                5 : globals()['resultats_'+ str(dataframe_region[1].iloc[i][\"Code de la région\"])]['Prénom.5'],\n",
    "                                                                                                6 : globals()['resultats_'+ str(dataframe_region[1].iloc[i][\"Code de la région\"])]['Prénom.6'],\n",
    "                                                                                                7 : globals()['resultats_'+ str(dataframe_region[1].iloc[i][\"Code de la région\"])]['Prénom.7'],\n",
    "                                                                                                8 : globals()['resultats_'+ str(dataframe_region[1].iloc[i][\"Code de la région\"])]['Prénom.8'],\n",
    "                                                                                                9 : globals()['resultats_'+ str(dataframe_region[1].iloc[i][\"Code de la région\"])]['Prénom.9'],\n",
    "                                                                                                10 : globals()['resultats_'+ str(dataframe_region[1].iloc[i][\"Code de la région\"])]['Prénom.10']\n",
    "                                                                                                },\n",
    "                                                                                       '% Voix/Ins' : {0 : globals()['resultats_'+ str(dataframe_region[1].iloc[i][\"Code de la région\"])]['% Voix/Ins'],\n",
    "                                                                                                1 : globals()['resultats_'+ str(dataframe_region[1].iloc[i][\"Code de la région\"])]['% Voix/Ins.1'],\n",
    "                                                                                                2 : globals()['resultats_'+ str(dataframe_region[1].iloc[i][\"Code de la région\"])]['% Voix/Ins.2'],\n",
    "                                                                                                3 : globals()['resultats_'+ str(dataframe_region[1].iloc[i][\"Code de la région\"])]['% Voix/Ins.3'],\n",
    "                                                                                                4 : globals()['resultats_'+ str(dataframe_region[1].iloc[i][\"Code de la région\"])]['% Voix/Ins.4'],\n",
    "                                                                                                5 : globals()['resultats_'+ str(dataframe_region[1].iloc[i][\"Code de la région\"])]['% Voix/Ins.5'],\n",
    "                                                                                                6 : globals()['resultats_'+ str(dataframe_region[1].iloc[i][\"Code de la région\"])]['% Voix/Ins.6'],\n",
    "                                                                                                7 : globals()['resultats_'+ str(dataframe_region[1].iloc[i][\"Code de la région\"])]['% Voix/Ins.7'],\n",
    "                                                                                                8 : globals()['resultats_'+ str(dataframe_region[1].iloc[i][\"Code de la région\"])]['% Voix/Ins.8'],\n",
    "                                                                                                9 : globals()['resultats_'+ str(dataframe_region[1].iloc[i][\"Code de la région\"])]['% Voix/Ins.9'],\n",
    "                                                                                                10 : globals()['resultats_'+ str(dataframe_region[1].iloc[i][\"Code de la région\"])]['% Voix/Ins.10']\n",
    "                                                                                                }\n",
    "                                                                                      })"
   ]
  },
  {
   "cell_type": "code",
   "execution_count": 347,
   "id": "33eb38d3",
   "metadata": {},
   "outputs": [],
   "source": [
    "# for i in range(len(dataframe_region[1])):\n",
    "#     resultats = globals()['resultats_'+ str(dataframe_region[1].iloc[i][\"Code de la région\"])]\n",
    "#     fig = px.pie(resultats, values='% Voix/Ins', names='Nom', title='% Voix/Ins')\n",
    "#     fig.update_traces(textinfo='value')\n",
    "#     fig.write_html(\"resultats/resultats_\"+str(dataframe_region[1].iloc[i][\"Code de la région\"])+\".html\")\n"
   ]
  },
  {
   "cell_type": "code",
   "execution_count": 4,
   "id": "2bf100a3",
   "metadata": {
    "scrolled": false
   },
   "outputs": [],
   "source": [
    "for i in range(len(dataframe_region[1])):\n",
    "    resultats = globals()['resultats_'+ str(dataframe_region[1].iloc[i][\"Code de la région\"])]\n",
    "    fig = px.pie(resultats, values='% Voix/Ins', names='Nom', title='% Voix/Ins',\n",
    "                 color='Nom',\n",
    "                 color_discrete_map= {'MACRON' : '#d45087',\n",
    "                                     'MÉLENCHON' : '#665191',\n",
    "                                     'LE PEN' : '#003f5c',\n",
    "                                     'HAMON' : 'yellow',\n",
    "                                     'DUPONT' : 'grey',\n",
    "                                     'ARTHAUD' : '#f95d6a',\n",
    "                                     'POUTOU' : '#003f5c', \n",
    "                                     'CHEMINADE' : '#ff7c43', \n",
    "                                     'LASSALLE' : '#ffa600',\n",
    "                                     'ASSELINEAU' : '#a05195',\n",
    "                                     'FILLON' : '#2f4b7c'})\n",
    "   \n",
    "    \n",
    "    fig.update_traces(textinfo='value')\n",
    "    fig.write_html(\"resultats/resultats_\"+str(i)+\".html\")\n",
    "#   fig.show()\n",
    "\n"
   ]
  },
  {
   "cell_type": "code",
   "execution_count": 9,
   "id": "d33663d5",
   "metadata": {},
   "outputs": [
    {
     "data": {
      "text/plain": [
       "'<iframe id=\"igraph\" scrolling=\"no\" style=\"border:none;\" seamless=\"seamless\" src=\"https://plotly.com/~chris/1638.embed\" height=\"525\" width=\"100%\"></iframe>'"
      ]
     },
     "execution_count": 9,
     "metadata": {},
     "output_type": "execute_result"
    }
   ],
   "source": [
    "import chart_studio.tools as tls\n",
    "\n",
    "tls.get_embed('https://plotly.com/~chris/1638')"
   ]
  },
  {
   "cell_type": "code",
   "execution_count": 6,
   "id": "92f04b80",
   "metadata": {},
   "outputs": [
    {
     "name": "stdout",
     "output_type": "stream",
     "text": [
      "Collecting chart_studio\n",
      "  Downloading chart_studio-1.1.0-py3-none-any.whl (64 kB)\n",
      "Requirement already satisfied: plotly in c:\\users\\ssm47\\anaconda3\\lib\\site-packages (from chart_studio) (5.5.0)\n",
      "Requirement already satisfied: six in c:\\users\\ssm47\\anaconda3\\lib\\site-packages (from chart_studio) (1.16.0)\n",
      "Requirement already satisfied: requests in c:\\users\\ssm47\\anaconda3\\lib\\site-packages (from chart_studio) (2.26.0)\n",
      "Collecting retrying>=1.3.3\n",
      "  Downloading retrying-1.3.3.tar.gz (10 kB)\n",
      "Requirement already satisfied: tenacity>=6.2.0 in c:\\users\\ssm47\\anaconda3\\lib\\site-packages (from plotly->chart_studio) (8.0.1)\n",
      "Requirement already satisfied: certifi>=2017.4.17 in c:\\users\\ssm47\\anaconda3\\lib\\site-packages (from requests->chart_studio) (2021.10.8)\n",
      "Requirement already satisfied: idna<4,>=2.5 in c:\\users\\ssm47\\anaconda3\\lib\\site-packages (from requests->chart_studio) (3.2)\n",
      "Requirement already satisfied: urllib3<1.27,>=1.21.1 in c:\\users\\ssm47\\anaconda3\\lib\\site-packages (from requests->chart_studio) (1.26.7)\n",
      "Requirement already satisfied: charset-normalizer~=2.0.0 in c:\\users\\ssm47\\anaconda3\\lib\\site-packages (from requests->chart_studio) (2.0.4)\n",
      "Building wheels for collected packages: retrying\n",
      "  Building wheel for retrying (setup.py): started\n",
      "  Building wheel for retrying (setup.py): finished with status 'done'\n",
      "  Created wheel for retrying: filename=retrying-1.3.3-py3-none-any.whl size=11448 sha256=a2a3f3707557a6c3f320f65ae54ea9f95e08ef938d94969ce8741afb72fffffb\n",
      "  Stored in directory: c:\\users\\ssm47\\appdata\\local\\pip\\cache\\wheels\\ce\\18\\7f\\e9527e3e66db1456194ac7f61eb3211068c409edceecff2d31\n",
      "Successfully built retrying\n",
      "Installing collected packages: retrying, chart-studio\n",
      "Successfully installed chart-studio-1.1.0 retrying-1.3.3\n",
      "Note: you may need to restart the kernel to use updated packages.\n"
     ]
    }
   ],
   "source": [
    "pip install chart_studio"
   ]
  }
 ],
 "metadata": {
  "kernelspec": {
   "display_name": "Python 3 (ipykernel)",
   "language": "python",
   "name": "python3"
  },
  "language_info": {
   "codemirror_mode": {
    "name": "ipython",
    "version": 3
   },
   "file_extension": ".py",
   "mimetype": "text/x-python",
   "name": "python",
   "nbconvert_exporter": "python",
   "pygments_lexer": "ipython3",
   "version": "3.9.7"
  }
 },
 "nbformat": 4,
 "nbformat_minor": 5
}

{
 "cells": [
  {
   "cell_type": "code",
   "execution_count": 1,
   "id": "779f9e4f",
   "metadata": {},
   "outputs": [],
   "source": [
    "import pandas as pd"
   ]
  },
  {
   "cell_type": "code",
   "execution_count": 2,
   "id": "fdedccea",
   "metadata": {},
   "outputs": [],
   "source": [
    "excel_final=pd.ExcelFile('DataFrame pour les législatives (1er tour de 2007)/Les tendances de votes avec cordonnées pour les législatives (1er tour de 2007)_final.xlsx')"
   ]
  },
  {
   "cell_type": "code",
   "execution_count": 3,
   "id": "cdf09762",
   "metadata": {},
   "outputs": [],
   "source": [
    "df_commune = pd.read_excel(excel_final)"
   ]
  },
  {
   "cell_type": "code",
   "execution_count": 4,
   "id": "70b02026",
   "metadata": {},
   "outputs": [],
   "source": [
    "# df_commune"
   ]
  },
  {
   "cell_type": "code",
   "execution_count": 14,
   "id": "1c278a29",
   "metadata": {},
   "outputs": [
    {
     "data": {
      "text/html": [
       "<div>\n",
       "<style scoped>\n",
       "    .dataframe tbody tr th:only-of-type {\n",
       "        vertical-align: middle;\n",
       "    }\n",
       "\n",
       "    .dataframe tbody tr th {\n",
       "        vertical-align: top;\n",
       "    }\n",
       "\n",
       "    .dataframe thead th {\n",
       "        text-align: right;\n",
       "    }\n",
       "</style>\n",
       "<table border=\"1\" class=\"dataframe\">\n",
       "  <thead>\n",
       "    <tr style=\"text-align: right;\">\n",
       "      <th></th>\n",
       "      <th>commune_code</th>\n",
       "      <th>N° de bureau de vote</th>\n",
       "      <th>longitude</th>\n",
       "      <th>latitude</th>\n",
       "      <th>Inscrits</th>\n",
       "      <th>Votants</th>\n",
       "      <th>Exprimés</th>\n",
       "      <th>Nom du candidat</th>\n",
       "      <th>Prénom du candidat</th>\n",
       "      <th>Code nuance du candidat</th>\n",
       "      <th>...</th>\n",
       "      <th>Nom du candidat.30</th>\n",
       "      <th>Prénom du candidat.30</th>\n",
       "      <th>Code nuance du candidat.30</th>\n",
       "      <th>Nombre de voix du candidat.30</th>\n",
       "      <th>% Voix/Exp.30</th>\n",
       "      <th>NOM_le_plus_voté</th>\n",
       "      <th>PRENOM_le_plus_voté</th>\n",
       "      <th>NUANCE_le_plus_voté</th>\n",
       "      <th>Nombre de voix du candidat_y</th>\n",
       "      <th>% Voix/Exp_le_plus_voté</th>\n",
       "    </tr>\n",
       "  </thead>\n",
       "  <tbody>\n",
       "  </tbody>\n",
       "</table>\n",
       "<p>0 rows × 167 columns</p>\n",
       "</div>"
      ],
      "text/plain": [
       "Empty DataFrame\n",
       "Columns: [commune_code, N° de bureau de vote, longitude, latitude, Inscrits, Votants, Exprimés, Nom du candidat, Prénom du candidat, Code nuance du candidat, Nombre de voix du candidat, % Voix/Exp, Nom du candidat.1, Prénom du candidat.1, Code nuance du candidat.1, Nombre de voix du candidat.1, % Voix/Exp.1, Nom du candidat.2, Prénom du candidat.2, Code nuance du candidat.2, Nombre de voix du candidat.2, % Voix/Exp.2, Nom du candidat.3, Prénom du candidat.3, Code nuance du candidat.3, Nombre de voix du candidat.3, % Voix/Exp.3, Nom du candidat.4, Prénom du candidat.4, Code nuance du candidat.4, Nombre de voix du candidat.4, % Voix/Exp.4, Nom du candidat.5, Prénom du candidat.5, Code nuance du candidat.5, Nombre de voix du candidat.5, % Voix/Exp.5, Nom du candidat.6, Prénom du candidat.6, Code nuance du candidat.6, Nombre de voix du candidat.6, % Voix/Exp.6, Nom du candidat.7, Prénom du candidat.7, Code nuance du candidat.7, Nombre de voix du candidat.7, % Voix/Exp.7, Nom du candidat.8, Prénom du candidat.8, Code nuance du candidat.8, Nombre de voix du candidat.8, % Voix/Exp.8, Nom du candidat.9, Prénom du candidat.9, Code nuance du candidat.9, Nombre de voix du candidat.9, % Voix/Exp.9, Nom du candidat.10, Prénom du candidat.10, Code nuance du candidat.10, Nombre de voix du candidat.10, % Voix/Exp.10, Nom du candidat.11, Prénom du candidat.11, Code nuance du candidat.11, Nombre de voix du candidat.11, % Voix/Exp.11, Nom du candidat.12, Prénom du candidat.12, Code nuance du candidat.12, Nombre de voix du candidat.12, % Voix/Exp.12, Nom du candidat.13, Prénom du candidat.13, Code nuance du candidat.13, Nombre de voix du candidat.13, % Voix/Exp.13, Nom du candidat.14, Prénom du candidat.14, Code nuance du candidat.14, Nombre de voix du candidat.14, % Voix/Exp.14, Nom du candidat.15, Prénom du candidat.15, Code nuance du candidat.15, Nombre de voix du candidat.15, % Voix/Exp.15, Nom du candidat.16, Prénom du candidat.16, Code nuance du candidat.16, Nombre de voix du candidat.16, % Voix/Exp.16, Nom du candidat.17, Prénom du candidat.17, Code nuance du candidat.17, Nombre de voix du candidat.17, % Voix/Exp.17, Nom du candidat.18, Prénom du candidat.18, Code nuance du candidat.18, ...]\n",
       "Index: []\n",
       "\n",
       "[0 rows x 167 columns]"
      ]
     },
     "execution_count": 14,
     "metadata": {},
     "output_type": "execute_result"
    }
   ],
   "source": [
    "df_commune[df_commune['% Voix/Exp.30'].notnull()]"
   ]
  },
  {
   "cell_type": "code",
   "execution_count": 12,
   "id": "afbb2638",
   "metadata": {},
   "outputs": [],
   "source": [
    "# number = 30, 29, 28, ... ,10, 9, 8, (7~0 Same)\n",
    "\n",
    "def makeDataFrame(number):\n",
    "    global df_commune\n",
    "    \n",
    "    # 1) Make a new DataFrame \n",
    "    index_list = df_commune[df_commune['Nom du candidat.'+str(number)].notnull()].index.tolist()\n",
    "    globals()['df_voix_'+str(number)] = pd.DataFrame(df_commune, index=index_list)\n",
    "    \n",
    "    # 2) df_commune - df_new_dataframe\n",
    "    df = pd.concat([df_commune, globals()['df_voix_'+str(number)]])\n",
    "    df = df.drop_duplicates(keep=False)\n",
    "    df_commune = df\n",
    "    \n",
    "    # 3) Make Excel File\n",
    "    globals()['df_voix_'+str(number)].to_excel('DataFrame pour les législatives (1er tour de 2007)/df_voix_'+str(number)+'.xlsx')"
   ]
  },
  {
   "cell_type": "code",
   "execution_count": 13,
   "id": "a6395210",
   "metadata": {},
   "outputs": [],
   "source": [
    "for number in range(30,-1,-1):\n",
    "    if number == 7:\n",
    "        df_commune.to_excel('DataFrame pour les législatives (1er tour de 2007)/df_voix_7_to_0.xlsx')\n",
    "        break\n",
    "    makeDataFrame(number)"
   ]
  }
 ],
 "metadata": {
  "kernelspec": {
   "display_name": "Python 3 (ipykernel)",
   "language": "python",
   "name": "python3"
  },
  "language_info": {
   "codemirror_mode": {
    "name": "ipython",
    "version": 3
   },
   "file_extension": ".py",
   "mimetype": "text/x-python",
   "name": "python",
   "nbconvert_exporter": "python",
   "pygments_lexer": "ipython3",
   "version": "3.9.7"
  }
 },
 "nbformat": 4,
 "nbformat_minor": 5
}

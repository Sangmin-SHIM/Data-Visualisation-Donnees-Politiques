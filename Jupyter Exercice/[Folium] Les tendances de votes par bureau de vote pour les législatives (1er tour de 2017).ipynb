{
 "cells": [
  {
   "cell_type": "code",
<<<<<<< HEAD
   "execution_count": 17,
=======
   "execution_count": 85,
>>>>>>> c4c34ccd131a537db4d3d4fa5e6efaa5de990ddf
   "id": "779f9e4f",
   "metadata": {},
   "outputs": [],
   "source": [
    "import pandas as pd"
   ]
  },
  {
   "cell_type": "code",
<<<<<<< HEAD
   "execution_count": 18,
=======
   "execution_count": 86,
>>>>>>> c4c34ccd131a537db4d3d4fa5e6efaa5de990ddf
   "id": "fdedccea",
   "metadata": {},
   "outputs": [],
   "source": [
<<<<<<< HEAD
    "file_list =['df_voix_7_to_0','df_voix_8','df_voix_9','df_voix_10','df_voix_11','df_voix_12','df_voix_13',\n",
    "           'df_voix_14','df_voix_15','df_voix_16','df_voix_17','df_voix_18','df_voix_19','df_voix_20',\n",
    "           'df_voix_21','df_voix_22','df_voix_23','df_voix_24']\n",
    "\n",
    "def readDataFrame(file_name):\n",
    "    globals()['excel_'+file_name]=pd.ExcelFile('DataFrame pour les législatives (1er tour de 2017)/'+file_name+'.xlsx')\n",
    "    globals()[file_name] = pd.read_excel(globals()['excel_'+file_name])\n",
    "    \n",
    "    \n",
    "for file_name in file_list:\n",
    "    readDataFrame(file_name)"
=======
    "# file_list =['df_voix_7_to_0','df_voix_8','df_voix_9','df_voix_10','df_voix_11','df_voix_12','df_voix_13',\n",
    "#            'df_voix_14','df_voix_15','df_voix_16','df_voix_17','df_voix_18','df_voix_19','df_voix_20',\n",
    "#            'df_voix_21','df_voix_22','df_voix_23','df_voix_24']\n",
    "\n",
    "# def readDataFrame(file_name):\n",
    "#     globals()['excel_'+file_name]=pd.ExcelFile('DataFrame pour les législatives (1er tour de 2017)/'+file_name+'.xlsx')\n",
    "#     globals()[file_name] = pd.read_excel(globals()['excel_'+file_name])\n",
    "    \n",
    "    \n",
    "# for file_name in file_list:\n",
    "#     readDataFrame(file_name)"
>>>>>>> c4c34ccd131a537db4d3d4fa5e6efaa5de990ddf
   ]
  },
  {
   "cell_type": "code",
<<<<<<< HEAD
   "execution_count": 3,
=======
   "execution_count": 87,
>>>>>>> c4c34ccd131a537db4d3d4fa5e6efaa5de990ddf
   "id": "e1e6744b",
   "metadata": {},
   "outputs": [],
   "source": [
<<<<<<< HEAD
    "# # df.iterrows -> [DataFrame => Series]\n",
    "# #for i,row in df_voix_24.iterrows():\n",
    "# #    print(row['Nom'])"
=======
    "# df.iterrows -> [DataFrame => Series]\n",
    "# for i,row in df_voix_24.iterrows():\n",
    "#     print(row['Nom'])"
>>>>>>> c4c34ccd131a537db4d3d4fa5e6efaa5de990ddf
   ]
  },
  {
   "cell_type": "code",
<<<<<<< HEAD
   "execution_count": 19,
=======
   "execution_count": 88,
>>>>>>> c4c34ccd131a537db4d3d4fa5e6efaa5de990ddf
   "id": "5c1b1a39",
   "metadata": {},
   "outputs": [],
   "source": [
<<<<<<< HEAD
    "# Liste de Nuances Politiques\n",
    "# Le Plus Voté (Nom, Prénom)\n",
    "import random\n",
    "import itertools\n",
    "\n",
    "list_nuance=[]\n",
    "list_nom=[]\n",
    "list_prenom=[]\n",
    "for file_name in file_list:\n",
    "    list_nuance.append(globals()[file_name]['NUANCE_candidat_le_plus_voté'].drop_duplicates().tolist())\n",
    "    list_nom.append(globals()[file_name]['NOM_candidat_le_plus_voté'].tolist())\n",
    "    list_prenom.append(globals()[file_name]['PRENOM_candidat_le_plus_voté'].tolist())\n",
    "\n",
    "# Contained 2nd Array Dimension in List -> Remove 2nd Array, and take the elements in list \n",
    "list_nuance = list(itertools.chain.from_iterable(list_nuance))\n",
    "list_nom = sum(list_nom, [])\n",
    "list_prenom = sum(list_prenom, [])\n",
    "\n",
    "# Remove Duplicated elements\n",
    "dict_nuance = dict.fromkeys(list_nuance)\n",
    "list_candidat = list(set(zip(list_nom, list_prenom)))\n",
    "    \n",
    "# Color for Each Politic Party\n",
    "for key, value in dict_nuance.items():\n",
    "    dict_nuance[key]=\"#%06x\" % random.randint(0, 0xFFFFFF)"
   ]
  },
  {
   "cell_type": "code",
   "execution_count": 55,
   "id": "9b26e52a",
   "metadata": {},
   "outputs": [
    {
     "data": {
      "text/plain": [
       "1196"
      ]
     },
     "execution_count": 55,
     "metadata": {},
     "output_type": "execute_result"
    }
   ],
   "source": [
    "# dict_nuance\n",
    "print(list_candidat)"
=======
    "# # Liste de Nuances Politiques\n",
    "# import random\n",
    "# import itertools\n",
    "\n",
    "# list_nuance=[]\n",
    "\n",
    "# for file_name in file_list:\n",
    "#     list_nuance.append(globals()[file_name]['NUANCE_candidat_le_plus_voté'].drop_duplicates().tolist())\n",
    "\n",
    "# # Contained 2nd Array Dimension in List -> Remove 2nd Array, and take the elements in list \n",
    "# list_nuance = list(itertools.chain.from_iterable(list_nuance))\n",
    "\n",
    "# # Remove Duplicated elements\n",
    "# dict_nuance = dict.fromkeys(list_nuance)\n",
    "\n",
    "# dict_nuance\n",
    "\n",
    "# # Color for Each Politic Party\n",
    "# for key, value in dict_nuance.items():\n",
    "#     dict_nuance[key]=\"#%06x\" % random.randint(0, 0xFFFFFF)"
>>>>>>> c4c34ccd131a537db4d3d4fa5e6efaa5de990ddf
   ]
  },
  {
   "cell_type": "code",
<<<<<<< HEAD
   "execution_count": 56,
   "id": "eccaf5e3",
=======
   "execution_count": 49,
   "id": "9b26e52a",
>>>>>>> c4c34ccd131a537db4d3d4fa5e6efaa5de990ddf
   "metadata": {},
   "outputs": [
    {
     "data": {
      "text/plain": [
<<<<<<< HEAD
       "1609"
      ]
     },
     "execution_count": 56,
=======
       "{'REM': '#b28f84',\n",
       " 'SOC': '#26f5ef',\n",
       " 'FI': '#e5a252',\n",
       " 'LR': '#73b055',\n",
       " 'FN': '#a68419',\n",
       " 'COM': '#c53ed8',\n",
       " 'UDI': '#ab201c',\n",
       " 'DVD': '#eb5ce6',\n",
       " 'ECO': '#77bca5',\n",
       " 'DVG': '#723f97',\n",
       " 'MDM': '#ad48e3',\n",
       " 'DLF': '#3762d8',\n",
       " 'RDG': '#d47d06',\n",
       " 'DIV': '#27d11c',\n",
       " 'EXG': '#4b75b4',\n",
       " 'REG': '#ddd0e5',\n",
       " 'EXD': '#24ec9a'}"
      ]
     },
     "execution_count": 49,
>>>>>>> c4c34ccd131a537db4d3d4fa5e6efaa5de990ddf
     "metadata": {},
     "output_type": "execute_result"
    }
   ],
   "source": [
<<<<<<< HEAD
    "len(list(dict_nom))"
=======
    "dict_nuance"
>>>>>>> c4c34ccd131a537db4d3d4fa5e6efaa5de990ddf
   ]
  },
  {
   "cell_type": "code",
<<<<<<< HEAD
   "execution_count": 20,
   "id": "0b753f31",
   "metadata": {},
   "outputs": [],
   "source": [
    "# dict_candidat"
   ]
  },
  {
   "cell_type": "code",
   "execution_count": 9,
=======
   "execution_count": 78,
>>>>>>> c4c34ccd131a537db4d3d4fa5e6efaa5de990ddf
   "id": "cdf09762",
   "metadata": {},
   "outputs": [],
   "source": [
<<<<<<< HEAD
    "# # Version 1 (No Cluster)\n",
=======
    "# Version 1 (No Cluster)\n",
>>>>>>> c4c34ccd131a537db4d3d4fa5e6efaa5de990ddf
    "# import folium\n",
    "# from folium import plugins\n",
    "\n",
    "# map = folium.Map(location=[46.91160617052484, 2.153649265809747]\n",
    "#                        , zoom_start=5.5)\n",
    "\n",
    "\n",
    "# def colorByNuanceName(Nom):\n",
    "    \n",
    "#     return dict_nuance[Nom]\n",
    "\n",
    "\n",
    "# for file_name in file_list:\n",
    "\n",
    "#     globals()[file_name].apply(lambda row: folium.Circle(location=[row.loc['latitude'], row.loc['longitude']],\n",
    "#                                              radius=100,\n",
    "#                                              popup=row.loc['NOM_candidat_le_plus_voté'],\n",
    "#                                              fill=True, \n",
    "#                                              tooltip=\"\"\"\n",
    "#                                                      Nom : <b>\"\"\"+ str(row['NOM_candidat_le_plus_voté']) +\"\"\"</b><br>\n",
    "#                                                      Prénom : <b>\"\"\"+ str(row['PRENOM_candidat_le_plus_voté']) +\"\"\"</b><br>\n",
    "#                                                      % Voix/Exp : <b>\"\"\"+ str(row['% Voix/Exp_le_plus_voté']) +\"\"\"</b><br>\n",
    "#                                                      Nuance : <b>\"\"\"+ str(row['NUANCE_candidat_le_plus_voté']) + \"\"\"</b><br>\n",
<<<<<<< HEAD
    "                                                     \n",
    "#                                                      <h5>Others</h5>\n",
    "#                                                      \"\"\"\n",
    "#                                                      +str(row['Nom.24'])+    \n",
    "#                                                      \"\"\"\n",
    "                                                     \n",
=======
>>>>>>> c4c34ccd131a537db4d3d4fa5e6efaa5de990ddf
    "#                                                      \"\"\", \n",
    "#                                              color=colorByNuanceName(row.loc['NUANCE_candidat_le_plus_voté']), \n",
    "#                                              fill_color=colorByNuanceName(row['NUANCE_candidat_le_plus_voté']),\n",
    "#                                              opacity=0.8,\n",
    "#                                              fill_opacity=0.7)\n",
    "#                                              .add_to(map), axis=1)    \n",
    "\n",
    "# map"
   ]
  },
  {
   "cell_type": "code",
   "execution_count": 83,
   "id": "e30ba31b",
   "metadata": {},
   "outputs": [],
   "source": [
    "# map.save(\"legislatives(1er tour de 2017)-Plot.html\")"
   ]
  },
  {
   "cell_type": "code",
<<<<<<< HEAD
   "execution_count": 22,
=======
   "execution_count": 81,
>>>>>>> c4c34ccd131a537db4d3d4fa5e6efaa5de990ddf
   "id": "c48efd11",
   "metadata": {},
   "outputs": [],
   "source": [
    "# # Version 2 (With Cluster)\n",
    "\n",
    "# import folium\n",
    "# from folium import plugins\n",
    "\n",
    "# map2 = folium.Map(location=[46.91160617052484, 2.153649265809747]\n",
    "#                        , zoom_start=5.5)\n",
    "\n",
    "# marker_cluster = plugins.MarkerCluster().add_to(map2)\n",
    "\n",
    "# def colorByNuanceName(Nom):\n",
    "    \n",
    "#     return dict_nuance[Nom]\n",
    "\n",
<<<<<<< HEAD
    "\n",
    "# for file_name in file_list:\n",
    "#     index = file_list.index(file_name)\n",
    "\n",
    "#     def listCandidates():\n",
    "#         display = \"\"\"<tr>\n",
    "#                           <td>\n",
    "#                               \"\"\"+str(row['Nom'])+ \"\"\"\n",
    "#                           </td>\n",
    "#                           <td>\n",
    "#                               \"\"\"+str(row['% Voix/Exp'])+ \"\"\"\n",
    "#                           </td>                                                    \n",
    "#                       </tr>\"\"\"\n",
    "#         for i in range(1,8+index):\n",
    "#             display+=\"\"\"<tr>\n",
    "#                             <td>\n",
    "#                                 \"\"\"+str(row['Nom.'+str(i)])+ \"\"\"\n",
    "#                             </td>\n",
    "#                           <td>\n",
    "#                               \"\"\"+str(row['% Voix/Exp.'+str(i)])+ \"\"\"\n",
    "#                           </td>                                                      \n",
    "#                         </tr>\"\"\"\n",
    "#         return \"\"\"\n",
    "#                   <br>\n",
    "#                   <h5>Total (%)</h5>\n",
    "#                   <table>\"\"\"+ display +\"\"\"</table>\"\"\"\n",
    "\n",
    "    \n",
    "#     for i, row in globals()[file_name].iterrows():\n",
    "#         popup = \"\"\"<h5>Le Plus Voté (%)</h5>\n",
=======
    "# for file_name in file_list:\n",
    "#     for i, row in globals()[file_name].iterrows():\n",
    "#         popup = \"\"\"\n",
>>>>>>> c4c34ccd131a537db4d3d4fa5e6efaa5de990ddf
    "#         Nom : <b>\"\"\"+ str(row['NOM_candidat_le_plus_voté']) +\"\"\"</b><br>\n",
    "#         Prénom : <b>\"\"\"+ str(row['PRENOM_candidat_le_plus_voté']) +\"\"\"</b><br>\n",
    "#         % Voix/Exp : <b>\"\"\"+ str(row['% Voix/Exp_le_plus_voté']) +\"\"\"</b><br>\n",
    "#         Nuance : <b>\"\"\"+ str(row['NUANCE_candidat_le_plus_voté']) + \"\"\"</b><br>\n",
<<<<<<< HEAD
    "#         \"\"\" + listCandidates()\n",
    "        \n",
    "#         folium.Circle(location=[row['latitude'], row['longitude']],\n",
    "#                                 radius=20,\n",
=======
    "#         \"\"\"\n",
    "#         folium.Circle(location=[row['latitude'], row['longitude']],\n",
    "#                                 radius=15,\n",
>>>>>>> c4c34ccd131a537db4d3d4fa5e6efaa5de990ddf
    "#                                 tooltip=popup,\n",
    "#                                 color= colorByNuanceName(row['NUANCE_candidat_le_plus_voté']),\n",
    "#                                 fill_color=colorByNuanceName(row['NUANCE_candidat_le_plus_voté']),\n",
    "#                                 fill=True).add_to(marker_cluster)\n",
    "\n",
    "# map2"
   ]
  },
  {
   "cell_type": "code",
<<<<<<< HEAD
   "execution_count": 23,
=======
   "execution_count": 84,
>>>>>>> c4c34ccd131a537db4d3d4fa5e6efaa5de990ddf
   "id": "e1c2bbb1",
   "metadata": {},
   "outputs": [],
   "source": [
<<<<<<< HEAD
    "# map2.save(\"map2.html\")"
=======
    "# map2.save(\"legislatives(1er tour de 2017)-Cluster.html\")"
>>>>>>> c4c34ccd131a537db4d3d4fa5e6efaa5de990ddf
   ]
  }
 ],
 "metadata": {
  "kernelspec": {
   "display_name": "Python 3 (ipykernel)",
   "language": "python",
   "name": "python3"
  },
  "language_info": {
   "codemirror_mode": {
    "name": "ipython",
    "version": 3
   },
   "file_extension": ".py",
   "mimetype": "text/x-python",
   "name": "python",
   "nbconvert_exporter": "python",
   "pygments_lexer": "ipython3",
   "version": "3.9.7"
  }
 },
 "nbformat": 4,
 "nbformat_minor": 5
}

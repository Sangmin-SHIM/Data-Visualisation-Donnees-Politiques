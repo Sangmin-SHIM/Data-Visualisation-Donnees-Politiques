{
 "cells": [
  {
   "cell_type": "code",
   "execution_count": 1,
   "id": "779f9e4f",
   "metadata": {},
   "outputs": [],
   "source": [
    "import pandas as pd"
   ]
  },
  {
   "cell_type": "code",
   "execution_count": 2,
   "id": "fdedccea",
   "metadata": {},
   "outputs": [],
   "source": [
    "excel_final=pd.ExcelFile('Les tendances de votes avec cordonnées (2ème tour de 2017).xlsx')"
   ]
  },
  {
   "cell_type": "code",
   "execution_count": 3,
   "id": "cdf09762",
   "metadata": {},
   "outputs": [],
   "source": [
    "df_commune = pd.read_excel(excel_final)"
   ]
  },
  {
   "cell_type": "code",
   "execution_count": 5,
   "id": "363ec7a3",
   "metadata": {},
   "outputs": [],
   "source": [
    "import folium\n",
    "from folium.plugins import FastMarkerCluster\n",
    "\n",
    "map = folium.Map(location=[46.91160617052484, 2.153649265809747]\n",
    "                       , zoom_start=5.5)\n",
    "\n",
    "\n",
    "callback = ('function (row) {' \n",
    "                'var marker = L.marker(new L.LatLng(row[0], row[1]), {color: \"blue\"});'\n",
    "                'var icon = L.AwesomeMarkers.icon({'\n",
    "                \"icon: 'info-sign',\"\n",
    "                \"iconColor: 'white',\"\n",
    "                \"markerColor: 'green',\"\n",
    "                \"prefix: 'glyphicon',\"\n",
    "                \"extraClasses: 'fa-rotate-0'\"\n",
    "                    '});'\n",
    "                'marker.setIcon(icon);'\n",
    "                \"var popup = L.popup({maxWidth: '700'});\"\n",
    "                \"const display_text = {premier: row[2] +' '+row[3] + ': ' +row[4], two: row[5] +' '+row[6] + ': ' +row[7], last: row[8] +' '+row[9] + ': ' +row[10]};\"\n",
    "                \"var mytext = $(`<div><h5>Le Plus Voté (%)</h5><table><tr><td style='border: 1px solid #dddddd'>${display_text.premier}</td></tr></table><br><h5>Total (%)</h5><table><tr><td style='border: 1px solid #dddddd'>${display_text.two}</td></tr><tr><td style='border: 1px solid #dddddd'>${display_text.last}</td></tr></table></div>`)[0];\"\n",
    "                \"popup.setContent(mytext);\"\n",
    "                \"marker.bindPopup(popup);\"\n",
    "                'return marker};')\n",
    "\n",
    "\n",
    "map.add_child(FastMarkerCluster(df_commune[['latitude', 'longitude','NOM_candidat_le_plus_voté','PRENOM_candidat_le_plus_voté','% Voix/Exp_le_plus_voté','Nom','Prénom','% Voix/Exp','Nom.1','Prénom.1','% Voix/Exp.1']].values.tolist(), callback=callback))\n",
    "\n",
    "# map\n",
    "\n",
    "map.save('Les tendances de votes par bureau de vote pour les présidentielles (2ème tour de 2017).html')"
   ]
  }
 ],
 "metadata": {
  "kernelspec": {
   "display_name": "Python 3 (ipykernel)",
   "language": "python",
   "name": "python3"
  },
  "language_info": {
   "codemirror_mode": {
    "name": "ipython",
    "version": 3
   },
   "file_extension": ".py",
   "mimetype": "text/x-python",
   "name": "python",
   "nbconvert_exporter": "python",
   "pygments_lexer": "ipython3",
   "version": "3.9.7"
  }
 },
 "nbformat": 4,
 "nbformat_minor": 5
}

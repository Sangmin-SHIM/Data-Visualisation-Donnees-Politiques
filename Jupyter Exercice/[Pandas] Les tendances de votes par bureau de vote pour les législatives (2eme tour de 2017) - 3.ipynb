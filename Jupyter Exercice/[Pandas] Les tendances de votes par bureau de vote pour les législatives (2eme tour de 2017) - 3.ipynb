{
 "cells": [
  {
   "cell_type": "markdown",
   "id": "c9392840",
   "metadata": {},
   "source": [
    "# Séléctionner Le Plus Voté de bureaux de vote"
   ]
  },
  {
   "cell_type": "markdown",
   "id": "627fc4eb",
   "metadata": {},
   "source": [
    "        \"% Voix/Exp_le_plus_voté\"\n",
    "        \"NOM_candidat_le_plus_voté\"\n",
    "        \"PRENOM_candidat_le_plus_voté\"\n",
    "        \"NUANCE_candidat_le_plus_voté\""
   ]
  },
  {
   "cell_type": "code",
   "execution_count": 62,
   "id": "bb4403ef",
   "metadata": {},
   "outputs": [],
   "source": [
    "import pandas as pd\n",
    "\n",
    "# Ignore SettingWithCopyWarning Pandas\n",
    "pd.set_option('mode.chained_assignment', None)"
   ]
  },
  {
   "cell_type": "code",
   "execution_count": 106,
   "id": "c1274776",
   "metadata": {},
   "outputs": [],
   "source": [
    "excel_1=pd.ExcelFile('DataFrame pour les législatives (2eme tour de 2017)/df_voix_1.xlsx')\n",
    "df_voix_1 = pd.read_excel(excel_1)\n",
    "\n",
    "excel_0=pd.ExcelFile('DataFrame pour les législatives (2eme tour de 2017)/df_voix_0.xlsx')\n",
    "df_voix_0 = pd.read_excel(excel_0)"
   ]
  },
  {
   "cell_type": "code",
   "execution_count": 123,
   "id": "f52f73a2",
   "metadata": {},
   "outputs": [],
   "source": [
    "df_voix_1[\"% Voix/Exp_le_plus_voté\"]=df_voix_1[\"% Voix/Exp\"]\n",
    "df_voix_1[\"NOM_candidat_le_plus_voté\"]=df_voix_1[\"Nom\"]\n",
    "df_voix_1[\"PRENOM_candidat_le_plus_voté\"]=df_voix_1[\"Prénom\"]\n",
    "df_voix_1[\"NUANCE_candidat_le_plus_voté\"]=df_voix_1[\"Nuance\"]\n",
    "\n",
    "# # Save In Excel\n",
    "df_voix_1.to_excel('DataFrame pour les législatives (2eme tour de 2017)/df_voix_1.xlsx')"
   ]
  },
  {
   "cell_type": "code",
   "execution_count": 103,
   "id": "23c8e32d",
   "metadata": {},
   "outputs": [],
   "source": [
    "df_voix_0[\"% Voix/Exp_le_plus_voté\"]=df_voix_0[\"% Voix/Exp\"]\n",
    "df_voix_0[\"NOM_candidat_le_plus_voté\"]=df_voix_0[\"Nom\"]\n",
    "df_voix_0[\"PRENOM_candidat_le_plus_voté\"]=df_voix_0[\"Prénom\"]\n",
    "df_voix_0[\"NUANCE_candidat_le_plus_voté\"]=df_voix_0[\"Nuance\"]\n",
    "\n",
    "# Save In Excel\n",
    "df_voix_0.to_excel('DataFrame pour les législatives (2eme tour de 2017)/df_voix_0.xlsx')"
   ]
  }
 ],
 "metadata": {
  "kernelspec": {
   "display_name": "Python 3 (ipykernel)",
   "language": "python",
   "name": "python3"
  },
  "language_info": {
   "codemirror_mode": {
    "name": "ipython",
    "version": 3
   },
   "file_extension": ".py",
   "mimetype": "text/x-python",
   "name": "python",
   "nbconvert_exporter": "python",
   "pygments_lexer": "ipython3",
   "version": "3.9.7"
  }
 },
 "nbformat": 4,
 "nbformat_minor": 5
}

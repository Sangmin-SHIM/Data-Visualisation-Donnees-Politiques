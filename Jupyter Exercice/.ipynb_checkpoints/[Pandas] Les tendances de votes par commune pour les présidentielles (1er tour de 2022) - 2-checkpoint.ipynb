{
 "cells": [
  {
   "cell_type": "code",
   "execution_count": 1,
   "id": "05856a5b",
   "metadata": {},
   "outputs": [],
   "source": [
    "import pandas as pd\n",
    "import datetime "
   ]
  },
  {
   "cell_type": "code",
   "execution_count": 2,
   "id": "bb4403ef",
   "metadata": {},
   "outputs": [],
   "source": [
    "excel_final=pd.ExcelFile('EXCEL/Les tendances de votes avec cordonnées pour les présidentielles (1er tour de 2017).xlsx')"
   ]
  },
  {
   "cell_type": "code",
   "execution_count": 3,
   "id": "ab2a66e2",
   "metadata": {},
   "outputs": [],
   "source": [
    "df_commune = pd.read_excel(excel_final)"
   ]
  },
  {
   "cell_type": "code",
   "execution_count": 4,
   "id": "7b3904ec",
   "metadata": {},
   "outputs": [],
   "source": [
    "# Le Plus Voté - Nom, Prénom et % Voix / Ins\n",
    "# ------------------------------------------\n",
    "\n",
    "df_voix_exp = df_commune[['% Voix/Exp', '% Voix/Exp.1', '% Voix/Exp.2' , '% Voix/Exp.3' , '% Voix/Exp.4' , '% Voix/Exp.5' , '% Voix/Exp.6' , '% Voix/Exp.7', '% Voix/Exp.8', '% Voix/Exp.9', '% Voix/Exp.10']]\n",
    "\n",
    "class Candidat:\n",
    "    def __init__(self, nom, prenom):\n",
    "        self.nom = nom\n",
    "        self.prenom = prenom\n",
    "\n",
    "candidat=[]\n",
    "\n",
    "candidat.append(Candidat('DUPONT-AIGNAN','Nicolas'))\n",
    "for i in range(2,12):\n",
    "    candidat.append(Candidat(df_commune[\"Nom.\"+str(i-1)][0], df_commune[\"Prénom.\"+str(i-1)][0]))\n",
    "\n",
    "df_commune['NOM_candidat_le_plus_voté']=df_voix_exp.idxmax(axis=1).str.replace('% Voix/Exp','Nom')\n",
    "df_commune['PRENOM_candidat_le_plus_voté']=df_voix_exp.idxmax(axis=1).str.replace('% Voix/Exp','Prénom')\n",
    "\n",
    "df_commune['% Voix/Exp_le_plus_voté']=df_voix_exp.max(axis=1)\n",
    "\n",
    "df_commune.loc[(df_commune.NOM_candidat_le_plus_voté =='Nom'),'NOM_candidat_le_plus_voté'] = candidat[0].nom\n",
    "df_commune.loc[(df_commune.PRENOM_candidat_le_plus_voté =='Prénom'),'PRENOM_candidat_le_plus_voté'] = candidat[0].prenom\n",
    "for i in range(2,12):\n",
    "    df_commune.loc[(df_commune.NOM_candidat_le_plus_voté =='Nom.'+str(i-1),'NOM_candidat_le_plus_voté')] = candidat[i-1].nom\n",
    "    df_commune.loc[(df_commune.PRENOM_candidat_le_plus_voté =='Prénom.'+str(i-1),'PRENOM_candidat_le_plus_voté')] = candidat[i-1].prenom\n",
    "\n",
    "\n",
    "# df.loc[(df.Event == 'Dance'),'Event']='Hip-Hop'\n",
    "# df_commune.to_excel('Les tendances de votes avec cordonnées pour les présidentiells (1er tour de 2017).xlsx')"
   ]
  },
  {
   "cell_type": "code",
   "execution_count": 13,
   "id": "fea86dbb",
   "metadata": {},
   "outputs": [
    {
     "data": {
      "text/plain": [
       "0        25.45\n",
       "1        27.27\n",
       "2        27.09\n",
       "3        27.53\n",
       "4        24.94\n",
       "         ...  \n",
       "55010    33.93\n",
       "55011    29.97\n",
       "55012    46.49\n",
       "55013    24.53\n",
       "55014    27.59\n",
       "Length: 55015, dtype: float64"
      ]
     },
     "execution_count": 13,
     "metadata": {},
     "output_type": "execute_result"
    }
   ],
   "source": [
    "# df_commune\n",
    "# df_voix_exp.idxmax(axis=1).str.replace('% Voix/Exp','Nom')\n",
    "df_voix_exp.max(axis=1)"
   ]
  }
 ],
 "metadata": {
  "kernelspec": {
   "display_name": "Python 3 (ipykernel)",
   "language": "python",
   "name": "python3"
  },
  "language_info": {
   "codemirror_mode": {
    "name": "ipython",
    "version": 3
   },
   "file_extension": ".py",
   "mimetype": "text/x-python",
   "name": "python",
   "nbconvert_exporter": "python",
   "pygments_lexer": "ipython3",
   "version": "3.9.7"
  }
 },
 "nbformat": 4,
 "nbformat_minor": 5
}

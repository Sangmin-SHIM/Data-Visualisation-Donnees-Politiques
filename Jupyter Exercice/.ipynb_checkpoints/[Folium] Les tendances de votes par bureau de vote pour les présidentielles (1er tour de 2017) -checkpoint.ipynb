{
 "cells": [
  {
   "cell_type": "code",
   "execution_count": 2,
   "id": "779f9e4f",
   "metadata": {},
   "outputs": [],
   "source": [
    "import pandas as pd"
   ]
  },
  {
   "cell_type": "code",
   "execution_count": 3,
   "id": "fdedccea",
   "metadata": {},
   "outputs": [],
   "source": [
    "excel_final=pd.ExcelFile('EXCEL/Les tendances de votes avec cordonnées pour les présidentielles (1er tour de 2017).xlsx')"
   ]
  },
  {
   "cell_type": "code",
   "execution_count": 4,
   "id": "cdf09762",
   "metadata": {},
   "outputs": [],
   "source": [
    "df_commune = pd.read_excel(excel_final)"
   ]
  },
  {
   "cell_type": "code",
   "execution_count": 1,
   "id": "363ec7a3",
   "metadata": {},
   "outputs": [
    {
     "ename": "NameError",
     "evalue": "name 'df_commune' is not defined",
     "output_type": "error",
     "traceback": [
      "\u001b[1;31m---------------------------------------------------------------------------\u001b[0m",
      "\u001b[1;31mNameError\u001b[0m                                 Traceback (most recent call last)",
      "\u001b[1;32m~\\AppData\\Local\\Temp/ipykernel_60880/3088214837.py\u001b[0m in \u001b[0;36m<module>\u001b[1;34m\u001b[0m\n\u001b[0;32m     24\u001b[0m \u001b[1;33m\u001b[0m\u001b[0m\n\u001b[0;32m     25\u001b[0m \u001b[1;33m\u001b[0m\u001b[0m\n\u001b[1;32m---> 26\u001b[1;33m \u001b[0mmap\u001b[0m\u001b[1;33m.\u001b[0m\u001b[0madd_child\u001b[0m\u001b[1;33m(\u001b[0m\u001b[0mFastMarkerCluster\u001b[0m\u001b[1;33m(\u001b[0m\u001b[0mdf_commune\u001b[0m\u001b[1;33m[\u001b[0m\u001b[1;33m[\u001b[0m\u001b[1;34m'latitude'\u001b[0m\u001b[1;33m,\u001b[0m \u001b[1;34m'longitude'\u001b[0m\u001b[1;33m,\u001b[0m\u001b[1;34m'NOM_candidat_le_plus_voté'\u001b[0m\u001b[1;33m,\u001b[0m\u001b[1;34m'PRENOM_candidat_le_plus_voté'\u001b[0m\u001b[1;33m,\u001b[0m\u001b[1;34m'% Voix/Exp_le_plus_voté'\u001b[0m\u001b[1;33m,\u001b[0m\u001b[1;34m'Nom'\u001b[0m\u001b[1;33m,\u001b[0m\u001b[1;34m'Prénom'\u001b[0m\u001b[1;33m,\u001b[0m\u001b[1;34m'% Voix/Exp'\u001b[0m\u001b[1;33m,\u001b[0m\u001b[1;34m'Nom.1'\u001b[0m\u001b[1;33m,\u001b[0m\u001b[1;34m'Prénom.1'\u001b[0m\u001b[1;33m,\u001b[0m\u001b[1;34m'% Voix/Exp.1'\u001b[0m\u001b[1;33m,\u001b[0m\u001b[1;34m'Nom.2'\u001b[0m\u001b[1;33m,\u001b[0m\u001b[1;34m'Prénom.2'\u001b[0m\u001b[1;33m,\u001b[0m\u001b[1;34m'% Voix/Exp.2'\u001b[0m\u001b[1;33m,\u001b[0m\u001b[1;34m'Nom.3'\u001b[0m\u001b[1;33m,\u001b[0m\u001b[1;34m'Prénom.3'\u001b[0m\u001b[1;33m,\u001b[0m\u001b[1;34m'% Voix/Exp.3'\u001b[0m\u001b[1;33m,\u001b[0m\u001b[1;34m'Nom.4'\u001b[0m\u001b[1;33m,\u001b[0m\u001b[1;34m'Prénom.4'\u001b[0m\u001b[1;33m,\u001b[0m\u001b[1;34m'% Voix/Exp.4'\u001b[0m\u001b[1;33m,\u001b[0m\u001b[1;34m'Nom.5'\u001b[0m\u001b[1;33m,\u001b[0m\u001b[1;34m'Prénom.5'\u001b[0m\u001b[1;33m,\u001b[0m\u001b[1;34m'% Voix/Exp.5'\u001b[0m\u001b[1;33m,\u001b[0m\u001b[1;34m'Nom.6'\u001b[0m\u001b[1;33m,\u001b[0m\u001b[1;34m'Prénom.6'\u001b[0m\u001b[1;33m,\u001b[0m\u001b[1;34m'% Voix/Exp.6'\u001b[0m\u001b[1;33m,\u001b[0m\u001b[1;34m'Nom.7'\u001b[0m\u001b[1;33m,\u001b[0m\u001b[1;34m'Prénom.7'\u001b[0m\u001b[1;33m,\u001b[0m\u001b[1;34m'% Voix/Exp.7'\u001b[0m\u001b[1;33m,\u001b[0m\u001b[1;34m'Nom.8'\u001b[0m\u001b[1;33m,\u001b[0m\u001b[1;34m'Prénom.8'\u001b[0m\u001b[1;33m,\u001b[0m\u001b[1;34m'% Voix/Exp.8'\u001b[0m\u001b[1;33m,\u001b[0m\u001b[1;34m'Nom.9'\u001b[0m\u001b[1;33m,\u001b[0m\u001b[1;34m'Prénom.9'\u001b[0m\u001b[1;33m,\u001b[0m\u001b[1;34m'% Voix/Exp.9'\u001b[0m\u001b[1;33m,\u001b[0m\u001b[1;34m'Nom.10'\u001b[0m\u001b[1;33m,\u001b[0m\u001b[1;34m'Prénom.10'\u001b[0m\u001b[1;33m,\u001b[0m\u001b[1;34m'% Voix/Exp.10'\u001b[0m\u001b[1;33m]\u001b[0m\u001b[1;33m]\u001b[0m\u001b[1;33m.\u001b[0m\u001b[0mvalues\u001b[0m\u001b[1;33m.\u001b[0m\u001b[0mtolist\u001b[0m\u001b[1;33m(\u001b[0m\u001b[1;33m)\u001b[0m\u001b[1;33m,\u001b[0m \u001b[0mcallback\u001b[0m\u001b[1;33m=\u001b[0m\u001b[0mcallback\u001b[0m\u001b[1;33m)\u001b[0m\u001b[1;33m)\u001b[0m\u001b[1;33m\u001b[0m\u001b[1;33m\u001b[0m\u001b[0m\n\u001b[0m\u001b[0;32m     27\u001b[0m \u001b[1;33m\u001b[0m\u001b[0m\n\u001b[0;32m     28\u001b[0m \u001b[1;31m# map\u001b[0m\u001b[1;33m\u001b[0m\u001b[1;33m\u001b[0m\u001b[0m\n",
      "\u001b[1;31mNameError\u001b[0m: name 'df_commune' is not defined"
     ]
    }
   ],
   "source": [
    "import folium\n",
    "from folium.plugins import FastMarkerCluster\n",
    "\n",
    "map = folium.Map(location=[46.91160617052484, 2.153649265809747]\n",
    "                       , zoom_start=5.5)\n",
    "\n",
    "\n",
    "callback = ('function (row) {' \n",
    "                'var marker = L.marker(new L.LatLng(row[0], row[1]), {color: \"blue\"});'\n",
    "                'var icon = L.AwesomeMarkers.icon({'\n",
    "                \"icon: 'info-sign',\"\n",
    "                \"iconColor: 'white',\"\n",
    "                \"markerColor: 'green',\"\n",
    "                \"prefix: 'glyphicon',\"\n",
    "                \"extraClasses: 'fa-rotate-0'\"\n",
    "                    '});'\n",
    "                'marker.setIcon(icon);'\n",
    "                \"var popup = L.popup({maxWidth: '700'});\"\n",
    "                \"const display_text = {premier: row[2] +' '+row[3] + ': ' +row[4], two: row[5] +' '+row[6] + ': ' +row[7], three: row[8] +' '+row[9] + ': ' +row[10], four: row[11] +' '+row[12] + ': ' +row[13], five: row[14] +' '+row[15] + ': ' +row[16], six: row[17] +' '+row[18] + ': ' +row[19], seven: row[20] +' '+row[21] + ': ' +row[22], eight: row[23] +' '+row[24] + ': ' +row[25], nine: row[26] +' '+row[27] + ': ' +row[28], ten: row[29] +' '+row[30] + ': ' +row[31], eleven: row[32] +' '+row[33] + ': ' +row[34], last : row[35] +' '+row[36] + ': ' +row[37]};\"\n",
    "                \"var mytext = $(`<div><h5>Le Plus Voté (%)</h5><table><tr><td style='border: 1px solid #dddddd'>${display_text.premier}</td></tr></table><br><h5>Total (%)</h5><table><tr><td style='border: 1px solid #dddddd'>${display_text.two}</td></tr><tr><td style='border: 1px solid #dddddd'>${display_text.three}</td></tr><tr><td style='border: 1px solid #dddddd'>${display_text.four}</td></tr><tr><td style='border: 1px solid #dddddd'>${display_text.five}</td></tr><tr><td style='border: 1px solid #dddddd'>${display_text.six}</td></tr><tr><td style='border: 1px solid #dddddd'>${display_text.seven}</td></tr><tr><td style='border: 1px solid #dddddd'>${display_text.eight}</td></tr><tr><td style='border: 1px solid #dddddd'>${display_text.nine}</td></tr><tr><td style='border: 1px solid #dddddd'>${display_text.ten}</td></tr><tr><td style='border: 1px solid #dddddd'>${display_text.eleven}</td></tr><tr><td style='border: 1px solid #dddddd'>${display_text.last}</td></tr></table></div>`)[0];\"\n",
    "                \"popup.setContent(mytext);\"\n",
    "                \"marker.bindPopup(popup);\"\n",
    "                'return marker};')\n",
    "\n",
    "\n",
    "map.add_child(FastMarkerCluster(df_commune[['latitude', 'longitude','NOM_candidat_le_plus_voté','PRENOM_candidat_le_plus_voté','% Voix/Exp_le_plus_voté','Nom','Prénom','% Voix/Exp','Nom.1','Prénom.1','% Voix/Exp.1','Nom.2','Prénom.2','% Voix/Exp.2','Nom.3','Prénom.3','% Voix/Exp.3','Nom.4','Prénom.4','% Voix/Exp.4','Nom.5','Prénom.5','% Voix/Exp.5','Nom.6','Prénom.6','% Voix/Exp.6','Nom.7','Prénom.7','% Voix/Exp.7','Nom.8','Prénom.8','% Voix/Exp.8','Nom.9','Prénom.9','% Voix/Exp.9','Nom.10','Prénom.10','% Voix/Exp.10']].values.tolist(), callback=callback))\n",
    "\n",
    "# map\n",
    "\n",
    "# map.save('Les tendances de votes par bureau de vote pour les présidentielles (1er tour de 2017).html')"
   ]
  }
 ],
 "metadata": {
  "kernelspec": {
   "display_name": "Python 3 (ipykernel)",
   "language": "python",
   "name": "python3"
  },
  "language_info": {
   "codemirror_mode": {
    "name": "ipython",
    "version": 3
   },
   "file_extension": ".py",
   "mimetype": "text/x-python",
   "name": "python",
   "nbconvert_exporter": "python",
   "pygments_lexer": "ipython3",
   "version": "3.9.7"
  }
 },
 "nbformat": 4,
 "nbformat_minor": 5
}

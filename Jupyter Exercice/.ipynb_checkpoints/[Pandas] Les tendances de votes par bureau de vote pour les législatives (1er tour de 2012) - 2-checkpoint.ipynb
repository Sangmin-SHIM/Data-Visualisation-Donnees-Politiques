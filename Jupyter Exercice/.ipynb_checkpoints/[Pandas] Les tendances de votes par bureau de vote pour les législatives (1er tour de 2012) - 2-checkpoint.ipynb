{
 "cells": [
  {
   "cell_type": "code",
   "execution_count": 11,
   "id": "779f9e4f",
   "metadata": {},
   "outputs": [],
   "source": [
    "import pandas as pd"
   ]
  },
  {
   "cell_type": "code",
   "execution_count": 12,
   "id": "fdedccea",
   "metadata": {},
   "outputs": [],
   "source": [
    "excel_final=pd.ExcelFile('Les tendances de votes avec cordonnées pour les législatives (1er tour de 2012).xlsx')"
   ]
  },
  {
   "cell_type": "code",
   "execution_count": 13,
   "id": "cdf09762",
   "metadata": {},
   "outputs": [],
   "source": [
    "df_commune = pd.read_excel(excel_final)"
   ]
  },
  {
   "cell_type": "code",
   "execution_count": 10,
   "id": "1c278a29",
   "metadata": {},
   "outputs": [
    {
     "data": {
      "text/plain": [
       "commune_code  N° de bureau de vote\n",
       "1001          1                          LACROIX\n",
       "1002          1                       SOKOLOWSKI\n",
       "1004          1                       SOKOLOWSKI\n",
       "              2                       SOKOLOWSKI\n",
       "              3                       SOKOLOWSKI\n",
       "                                         ...    \n",
       "95680         11                          ATONGA\n",
       "              12                          ATONGA\n",
       "              13                          ATONGA\n",
       "95682         1                            BLAZY\n",
       "95690         1                         GILIBERT\n",
       "Name: Nom du candidat, Length: 51402, dtype: object"
      ]
     },
     "execution_count": 10,
     "metadata": {},
     "output_type": "execute_result"
    }
   ],
   "source": [
    " df_commune.groupby(['commune_code', 'N° de bureau de vote'])[\"Nom du candidat\"].first()\n",
    "# df_commune.groupby(['commune_code', 'N° de bureau de vote'])[['Nom du candidat','Prénom du candidat']].nth(list(range(5)))"
   ]
  },
  {
   "cell_type": "code",
   "execution_count": 31,
   "id": "039bc8d2",
   "metadata": {},
   "outputs": [
    {
     "ename": "AttributeError",
     "evalue": "'numpy.bool_' object has no attribute 'drop_duplicates'",
     "output_type": "error",
     "traceback": [
      "\u001b[1;31m---------------------------------------------------------------------------\u001b[0m",
      "\u001b[1;31mAttributeError\u001b[0m                            Traceback (most recent call last)",
      "\u001b[1;32m~\\AppData\\Local\\Temp/ipykernel_38556/1012893829.py\u001b[0m in \u001b[0;36m<module>\u001b[1;34m\u001b[0m\n\u001b[0;32m      6\u001b[0m \u001b[1;31m# list_index_le_plus_vote=df.to_frame()['Nombre de voix du candidat'].tolist()\u001b[0m\u001b[1;33m\u001b[0m\u001b[1;33m\u001b[0m\u001b[0m\n\u001b[0;32m      7\u001b[0m \u001b[1;33m\u001b[0m\u001b[0m\n\u001b[1;32m----> 8\u001b[1;33m \u001b[0mdf2\u001b[0m\u001b[1;33m.\u001b[0m\u001b[0mall\u001b[0m\u001b[1;33m(\u001b[0m\u001b[1;33m)\u001b[0m\u001b[1;33m.\u001b[0m\u001b[0mdrop_duplicates\u001b[0m\u001b[1;33m(\u001b[0m\u001b[0mdf1\u001b[0m\u001b[1;33m.\u001b[0m\u001b[0mall\u001b[0m\u001b[1;33m(\u001b[0m\u001b[1;33m)\u001b[0m\u001b[1;33m)\u001b[0m\u001b[1;33m\u001b[0m\u001b[1;33m\u001b[0m\u001b[0m\n\u001b[0m",
      "\u001b[1;31mAttributeError\u001b[0m: 'numpy.bool_' object has no attribute 'drop_duplicates'"
     ]
    }
   ],
   "source": [
    "df2=df_commune.groupby(['commune_code', 'N° de bureau de vote'])['Nombre de voix du candidat'].nlargest(2)\n",
    "df1=df_commune.groupby(['commune_code', 'N° de bureau de vote'])['Nombre de voix du candidat'].max()\n",
    "\n",
    "# df_votes.groupby(['Code Commune (Insee Code)', 'N° de bureau de vote'])['Nombre de voix du candidat'].max()\n",
    "\n",
    "# list_index_le_plus_vote=df.to_frame()['Nombre de voix du candidat'].tolist()"
   ]
  }
 ],
 "metadata": {
  "kernelspec": {
   "display_name": "Python 3 (ipykernel)",
   "language": "python",
   "name": "python3"
  },
  "language_info": {
   "codemirror_mode": {
    "name": "ipython",
    "version": 3
   },
   "file_extension": ".py",
   "mimetype": "text/x-python",
   "name": "python",
   "nbconvert_exporter": "python",
   "pygments_lexer": "ipython3",
   "version": "3.9.7"
  }
 },
 "nbformat": 4,
 "nbformat_minor": 5
}

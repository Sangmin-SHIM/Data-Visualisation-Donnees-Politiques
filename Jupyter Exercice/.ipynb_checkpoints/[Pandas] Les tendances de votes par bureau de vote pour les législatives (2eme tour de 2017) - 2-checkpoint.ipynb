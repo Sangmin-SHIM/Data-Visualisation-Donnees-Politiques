{
 "cells": [
  {
   "cell_type": "code",
   "execution_count": 1,
   "id": "779f9e4f",
   "metadata": {},
   "outputs": [],
   "source": [
    "import pandas as pd"
   ]
  },
  {
   "cell_type": "code",
   "execution_count": 2,
   "id": "fdedccea",
   "metadata": {},
   "outputs": [],
   "source": [
    "excel_final=pd.ExcelFile('Les tendances de votes avec cordonnées pour les législatives (2eme tour de 2017).xlsx')"
   ]
  },
  {
   "cell_type": "code",
   "execution_count": 20,
   "id": "cdf09762",
   "metadata": {},
   "outputs": [],
   "source": [
    "df_commune = pd.read_excel(excel_final)"
   ]
  },
  {
   "cell_type": "code",
   "execution_count": 26,
   "id": "1c278a29",
   "metadata": {},
   "outputs": [
    {
     "data": {
      "text/plain": [
       "125"
      ]
     },
     "execution_count": 26,
     "metadata": {},
     "output_type": "execute_result"
    }
   ],
   "source": [
    "len(df_commune[df_commune['Nom'].notnull()].index.tolist())"
   ]
  },
  {
   "cell_type": "code",
   "execution_count": 25,
   "id": "bbc61f55",
   "metadata": {},
   "outputs": [
    {
     "data": {
      "text/plain": [
       "0"
      ]
     },
     "execution_count": 25,
     "metadata": {},
     "output_type": "execute_result"
    }
   ],
   "source": [
    "len(df_commune[df_commune['Nom.1'].notnull()].index.tolist())"
   ]
  },
  {
   "cell_type": "code",
   "execution_count": 23,
   "id": "afbb2638",
   "metadata": {},
   "outputs": [],
   "source": [
    "# # Nom, Nom.1\n",
    "# # Number = 0, 1\n",
    "\n",
    "# def makeDataFrame(number):\n",
    "#     global df_commune\n",
    "    \n",
    "#     # 1) Make a new DataFrame \n",
    "#     index_list = df_commune[df_commune['Nom.'+str(number)].notnull()].index.tolist()\n",
    "#     globals()['df_voix_'+str(number)] = pd.DataFrame(df_commune, index=index_list)\n",
    "    \n",
    "#     # 2) df_commune - df_new_dataframe\n",
    "#     df = pd.concat([df_commune, globals()['df_voix_'+str(number)]])\n",
    "#     df = df.drop_duplicates(keep=False)\n",
    "#     df_commune = df\n",
    "    \n",
    "#     # 3) Make Excel File\n",
    "#     globals()['df_voix_'+str(number)].to_excel('DataFrame pour les législatives (2eme tour de 2017)/df_voix_'+str(number)+'.xlsx')"
   ]
  },
  {
   "cell_type": "code",
   "execution_count": 24,
   "id": "65929874",
   "metadata": {},
   "outputs": [],
   "source": [
    "# makeDataFrame(1)"
   ]
  },
  {
   "cell_type": "code",
   "execution_count": 27,
   "id": "f6ee1f24",
   "metadata": {},
   "outputs": [],
   "source": [
    "# df_commune.to_excel('DataFrame pour les législatives (2eme tour de 2017)/df_voix_0.xlsx')"
   ]
  }
 ],
 "metadata": {
  "kernelspec": {
   "display_name": "Python 3 (ipykernel)",
   "language": "python",
   "name": "python3"
  },
  "language_info": {
   "codemirror_mode": {
    "name": "ipython",
    "version": 3
   },
   "file_extension": ".py",
   "mimetype": "text/x-python",
   "name": "python",
   "nbconvert_exporter": "python",
   "pygments_lexer": "ipython3",
   "version": "3.9.7"
  }
 },
 "nbformat": 4,
 "nbformat_minor": 5
}

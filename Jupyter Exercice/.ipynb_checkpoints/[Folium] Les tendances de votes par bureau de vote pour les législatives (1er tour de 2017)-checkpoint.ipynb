{
 "cells": [
  {
   "cell_type": "code",
   "execution_count": 17,
   "id": "779f9e4f",
   "metadata": {},
   "outputs": [],
   "source": [
    "import pandas as pd"
   ]
  },
  {
   "cell_type": "code",
   "execution_count": 18,
   "id": "fdedccea",
   "metadata": {},
   "outputs": [],
   "source": [
    "file_list =['df_voix_7_to_0','df_voix_8','df_voix_9','df_voix_10','df_voix_11','df_voix_12','df_voix_13',\n",
    "           'df_voix_14','df_voix_15','df_voix_16','df_voix_17','df_voix_18','df_voix_19','df_voix_20',\n",
    "           'df_voix_21','df_voix_22','df_voix_23','df_voix_24']\n",
    "\n",
    "def readDataFrame(file_name):\n",
    "    globals()['excel_'+file_name]=pd.ExcelFile('DataFrame pour les législatives (1er tour de 2017)/'+file_name+'.xlsx')\n",
    "    globals()[file_name] = pd.read_excel(globals()['excel_'+file_name])\n",
    "    \n",
    "    \n",
    "for file_name in file_list:\n",
    "    readDataFrame(file_name)"
   ]
  },
  {
   "cell_type": "code",
   "execution_count": 3,
   "id": "e1e6744b",
   "metadata": {},
   "outputs": [],
   "source": [
    "# # df.iterrows -> [DataFrame => Series]\n",
    "# #for i,row in df_voix_24.iterrows():\n",
    "# #    print(row['Nom'])"
   ]
  },
  {
   "cell_type": "code",
   "execution_count": 19,
   "id": "5c1b1a39",
   "metadata": {},
   "outputs": [],
   "source": [
    "# Liste de Nuances Politiques\n",
    "# Le Plus Voté (Nom, Prénom)\n",
    "import random\n",
    "import itertools\n",
    "\n",
    "list_nuance=[]\n",
    "list_nom=[]\n",
    "list_prenom=[]\n",
    "for file_name in file_list:\n",
    "    list_nuance.append(globals()[file_name]['NUANCE_candidat_le_plus_voté'].drop_duplicates().tolist())\n",
    "    list_nom.append(globals()[file_name]['NOM_candidat_le_plus_voté'].tolist())\n",
    "    list_prenom.append(globals()[file_name]['PRENOM_candidat_le_plus_voté'].tolist())\n",
    "\n",
    "# Contained 2nd Array Dimension in List -> Remove 2nd Array, and take the elements in list \n",
    "list_nuance = list(itertools.chain.from_iterable(list_nuance))\n",
    "list_nom = sum(list_nom, [])\n",
    "list_prenom = sum(list_prenom, [])\n",
    "\n",
    "# Remove Duplicated elements\n",
    "dict_nuance = dict.fromkeys(list_nuance)\n",
    "list_candidat = list(set(zip(list_nom, list_prenom)))\n",
    "    \n",
    "# Color for Each Politic Party\n",
    "for key, value in dict_nuance.items():\n",
    "    dict_nuance[key]=\"#%06x\" % random.randint(0, 0xFFFFFF)"
   ]
  },
  {
   "cell_type": "code",
   "execution_count": 55,
   "id": "9b26e52a",
   "metadata": {},
   "outputs": [
    {
     "data": {
      "text/plain": [
       "1196"
      ]
     },
     "execution_count": 55,
     "metadata": {},
     "output_type": "execute_result"
    }
   ],
   "source": [
    "# dict_nuance\n",
    "print(list_candidat)"
   ]
  },
  {
   "cell_type": "code",
   "execution_count": 56,
   "id": "eccaf5e3",
   "metadata": {},
   "outputs": [
    {
     "data": {
      "text/plain": [
       "1609"
      ]
     },
     "execution_count": 56,
     "metadata": {},
     "output_type": "execute_result"
    }
   ],
   "source": [
    "len(list(dict_nom))"
   ]
  },
  {
   "cell_type": "code",
   "execution_count": 20,
   "id": "0b753f31",
   "metadata": {},
   "outputs": [],
   "source": [
    "# dict_candidat"
   ]
  },
  {
   "cell_type": "code",
   "execution_count": 9,
   "id": "cdf09762",
   "metadata": {},
   "outputs": [],
   "source": [
    "# # Version 1 (No Cluster)\n",
    "# import folium\n",
    "# from folium import plugins\n",
    "\n",
    "# map = folium.Map(location=[46.91160617052484, 2.153649265809747]\n",
    "#                        , zoom_start=5.5)\n",
    "\n",
    "\n",
    "# def colorByNuanceName(Nom):\n",
    "    \n",
    "#     return dict_nuance[Nom]\n",
    "\n",
    "\n",
    "# for file_name in file_list:\n",
    "\n",
    "#     globals()[file_name].apply(lambda row: folium.Circle(location=[row.loc['latitude'], row.loc['longitude']],\n",
    "#                                              radius=100,\n",
    "#                                              popup=row.loc['NOM_candidat_le_plus_voté'],\n",
    "#                                              fill=True, \n",
    "#                                              tooltip=\"\"\"\n",
    "#                                                      Nom : <b>\"\"\"+ str(row['NOM_candidat_le_plus_voté']) +\"\"\"</b><br>\n",
    "#                                                      Prénom : <b>\"\"\"+ str(row['PRENOM_candidat_le_plus_voté']) +\"\"\"</b><br>\n",
    "#                                                      % Voix/Exp : <b>\"\"\"+ str(row['% Voix/Exp_le_plus_voté']) +\"\"\"</b><br>\n",
    "#                                                      Nuance : <b>\"\"\"+ str(row['NUANCE_candidat_le_plus_voté']) + \"\"\"</b><br>\n",
    "                                                     \n",
    "#                                                      <h5>Others</h5>\n",
    "#                                                      \"\"\"\n",
    "#                                                      +str(row['Nom.24'])+    \n",
    "#                                                      \"\"\"\n",
    "                                                     \n",
    "#                                                      \"\"\", \n",
    "#                                              color=colorByNuanceName(row.loc['NUANCE_candidat_le_plus_voté']), \n",
    "#                                              fill_color=colorByNuanceName(row['NUANCE_candidat_le_plus_voté']),\n",
    "#                                              opacity=0.8,\n",
    "#                                              fill_opacity=0.7)\n",
    "#                                              .add_to(map), axis=1)    \n",
    "\n",
    "# map"
   ]
  },
  {
   "cell_type": "code",
   "execution_count": 83,
   "id": "e30ba31b",
   "metadata": {},
   "outputs": [],
   "source": [
    "# map.save(\"legislatives(1er tour de 2017)-Plot.html\")"
   ]
  },
  {
   "cell_type": "code",
   "execution_count": 22,
   "id": "c48efd11",
   "metadata": {},
   "outputs": [],
   "source": [
    "# # Version 2 (With Cluster)\n",
    "\n",
    "# import folium\n",
    "# from folium import plugins\n",
    "\n",
    "# map2 = folium.Map(location=[46.91160617052484, 2.153649265809747]\n",
    "#                        , zoom_start=5.5)\n",
    "\n",
    "# marker_cluster = plugins.MarkerCluster().add_to(map2)\n",
    "\n",
    "# def colorByNuanceName(Nom):\n",
    "    \n",
    "#     return dict_nuance[Nom]\n",
    "\n",
    "\n",
    "# for file_name in file_list:\n",
    "#     index = file_list.index(file_name)\n",
    "\n",
    "#     def listCandidates():\n",
    "#         display = \"\"\"<tr>\n",
    "#                           <td>\n",
    "#                               \"\"\"+str(row['Nom'])+ \"\"\"\n",
    "#                           </td>\n",
    "#                           <td>\n",
    "#                               \"\"\"+str(row['% Voix/Exp'])+ \"\"\"\n",
    "#                           </td>                                                    \n",
    "#                       </tr>\"\"\"\n",
    "#         for i in range(1,8+index):\n",
    "#             display+=\"\"\"<tr>\n",
    "#                             <td>\n",
    "#                                 \"\"\"+str(row['Nom.'+str(i)])+ \"\"\"\n",
    "#                             </td>\n",
    "#                           <td>\n",
    "#                               \"\"\"+str(row['% Voix/Exp.'+str(i)])+ \"\"\"\n",
    "#                           </td>                                                      \n",
    "#                         </tr>\"\"\"\n",
    "#         return \"\"\"\n",
    "#                   <br>\n",
    "#                   <h5>Total (%)</h5>\n",
    "#                   <table>\"\"\"+ display +\"\"\"</table>\"\"\"\n",
    "\n",
    "    \n",
    "#     for i, row in globals()[file_name].iterrows():\n",
    "#         popup = \"\"\"<h5>Le Plus Voté (%)</h5>\n",
    "#         Nom : <b>\"\"\"+ str(row['NOM_candidat_le_plus_voté']) +\"\"\"</b><br>\n",
    "#         Prénom : <b>\"\"\"+ str(row['PRENOM_candidat_le_plus_voté']) +\"\"\"</b><br>\n",
    "#         % Voix/Exp : <b>\"\"\"+ str(row['% Voix/Exp_le_plus_voté']) +\"\"\"</b><br>\n",
    "#         Nuance : <b>\"\"\"+ str(row['NUANCE_candidat_le_plus_voté']) + \"\"\"</b><br>\n",
    "#         \"\"\" + listCandidates()\n",
    "        \n",
    "#         folium.Circle(location=[row['latitude'], row['longitude']],\n",
    "#                                 radius=20,\n",
    "#                                 tooltip=popup,\n",
    "#                                 color= colorByNuanceName(row['NUANCE_candidat_le_plus_voté']),\n",
    "#                                 fill_color=colorByNuanceName(row['NUANCE_candidat_le_plus_voté']),\n",
    "#                                 fill=True).add_to(marker_cluster)\n",
    "\n",
    "# map2"
   ]
  },
  {
   "cell_type": "code",
   "execution_count": 23,
   "id": "e1c2bbb1",
   "metadata": {},
   "outputs": [],
   "source": [
    "# map2.save(\"map2.html\")"
   ]
  }
 ],
 "metadata": {
  "kernelspec": {
   "display_name": "Python 3 (ipykernel)",
   "language": "python",
   "name": "python3"
  },
  "language_info": {
   "codemirror_mode": {
    "name": "ipython",
    "version": 3
   },
   "file_extension": ".py",
   "mimetype": "text/x-python",
   "name": "python",
   "nbconvert_exporter": "python",
   "pygments_lexer": "ipython3",
   "version": "3.9.7"
  }
 },
 "nbformat": 4,
 "nbformat_minor": 5
}

{
 "cells": [
  {
   "cell_type": "markdown",
   "metadata": {
    "id": "BlPRHZZ9x8Bg"
   },
   "source": [
    "# Folium 한번에 제대로 배우기"
   ]
  },
  {
   "cell_type": "code",
   "execution_count": null,
   "metadata": {
    "id": "B7gC42v7kU8n"
   },
   "outputs": [],
   "source": []
  },
  {
   "cell_type": "code",
   "execution_count": null,
   "metadata": {
    "id": "36u4U3y_kZ8v"
   },
   "outputs": [],
   "source": []
  },
  {
   "cell_type": "code",
   "execution_count": null,
   "metadata": {
    "id": "7OtHhwUeyUrI"
   },
   "outputs": [],
   "source": []
  },
  {
   "cell_type": "code",
   "execution_count": null,
   "metadata": {
    "id": "U5FzBmxByX3C"
   },
   "outputs": [],
   "source": []
  },
  {
   "cell_type": "markdown",
   "metadata": {
    "id": "x9dtVn9Lyx0r"
   },
   "source": [
    "## 타일(Tiles)\n",
    "\n",
    "* OpenStreetMap\n",
    "* Mapbox Bright (Limited levels of zoom for free tiles)\n",
    "* Mapbox Control Room (Limited levels of zoom for free tiles)\n",
    "* Stamen (Terrain, Toner, and Watercolor)\n",
    "* Cloudmade (Must pass API key)\n",
    "* Mapbox (Must pass API key)\n",
    "* CartoDB (positron and dark_matter)"
   ]
  },
  {
   "cell_type": "code",
   "execution_count": null,
   "metadata": {
    "id": "_jYMIPTbka_z"
   },
   "outputs": [],
   "source": []
  },
  {
   "cell_type": "markdown",
   "metadata": {
    "id": "Ko6JVhHPy7Db"
   },
   "source": [
    "## 마커(Markers)"
   ]
  },
  {
   "cell_type": "code",
   "execution_count": null,
   "metadata": {
    "id": "0nCREbBFyHrx"
   },
   "outputs": [],
   "source": []
  },
  {
   "cell_type": "markdown",
   "metadata": {
    "id": "CWCaXu1aXQFu"
   },
   "source": [
    "### 아이콘(Icon)"
   ]
  },
  {
   "cell_type": "code",
   "execution_count": null,
   "metadata": {
    "id": "f3VrFJ8HzEbG"
   },
   "outputs": [],
   "source": []
  },
  {
   "cell_type": "code",
   "execution_count": null,
   "metadata": {
    "id": "j42t2w8PDZc4"
   },
   "outputs": [],
   "source": []
  },
  {
   "cell_type": "markdown",
   "metadata": {
    "id": "Nt1DTh2SALI7"
   },
   "source": [
    "### 보트 마커(Boat Marker)"
   ]
  },
  {
   "cell_type": "code",
   "execution_count": null,
   "metadata": {
    "id": "fHLPKSzqAObh"
   },
   "outputs": [],
   "source": []
  },
  {
   "cell_type": "markdown",
   "metadata": {
    "id": "0P-DDwLrXngI"
   },
   "source": [
    "### 클릭 마커"
   ]
  },
  {
   "cell_type": "code",
   "execution_count": null,
   "metadata": {
    "id": "Wn9Rv_7UzStp"
   },
   "outputs": [],
   "source": []
  },
  {
   "cell_type": "markdown",
   "metadata": {
    "id": "ME4brC3iXV42"
   },
   "source": [
    "### 원(Circle)"
   ]
  },
  {
   "cell_type": "code",
   "execution_count": null,
   "metadata": {
    "id": "xGns2S-8zJXP"
   },
   "outputs": [],
   "source": []
  },
  {
   "cell_type": "markdown",
   "metadata": {
    "id": "My_ETn3IXF2Z"
   },
   "source": [
    "* 서울: [37.566687, 126.978417]\n",
    "* 부산: [35.179774, 129.075004]\n",
    "* 인천: [37.455900, 126.705522]\n",
    "* 대구: [35.871380, 128.601743]\n",
    "* 대전: [36.350451, 127.384827]\n",
    "* 광주: [35.160072, 126.851440]"
   ]
  },
  {
   "cell_type": "code",
   "execution_count": null,
   "metadata": {
    "id": "b3ode1o1X-nL"
   },
   "outputs": [],
   "source": []
  },
  {
   "cell_type": "markdown",
   "metadata": {
    "id": "YGclaraCjNNK"
   },
   "source": [
    "### 폴리 라인(Poly Line)"
   ]
  },
  {
   "cell_type": "code",
   "execution_count": null,
   "metadata": {
    "id": "JDuEp0vnjTOb"
   },
   "outputs": [],
   "source": []
  },
  {
   "cell_type": "markdown",
   "metadata": {
    "id": "UBYAX87sjzCu"
   },
   "source": [
    "### 사각형(Rectangle)"
   ]
  },
  {
   "cell_type": "code",
   "execution_count": null,
   "metadata": {
    "id": "VXGLDYBvj1rg"
   },
   "outputs": [],
   "source": []
  },
  {
   "cell_type": "markdown",
   "metadata": {
    "id": "FDvvRnPAkETg"
   },
   "source": [
    "### 폴리곤(Polygon)"
   ]
  },
  {
   "cell_type": "code",
   "execution_count": null,
   "metadata": {
    "id": "v65m-8yUkIIT"
   },
   "outputs": [],
   "source": []
  },
  {
   "cell_type": "markdown",
   "metadata": {
    "id": "JMLK1aRL1f9-"
   },
   "source": [
    "### PolyLineTextPath"
   ]
  },
  {
   "cell_type": "code",
   "execution_count": null,
   "metadata": {
    "id": "0ZeWFXh90pDx"
   },
   "outputs": [],
   "source": []
  },
  {
   "cell_type": "code",
   "execution_count": null,
   "metadata": {
    "id": "U1_PFkmZ1ydc"
   },
   "outputs": [],
   "source": []
  },
  {
   "cell_type": "markdown",
   "metadata": {
    "id": "Sp7jORdEXZol"
   },
   "source": [
    "### 팝업(Popup)"
   ]
  },
  {
   "cell_type": "code",
   "execution_count": null,
   "metadata": {
    "id": "uYks_kK0zPu6"
   },
   "outputs": [],
   "source": []
  },
  {
   "cell_type": "code",
   "execution_count": null,
   "metadata": {
    "id": "wT5hd3GGg_f0"
   },
   "outputs": [],
   "source": []
  },
  {
   "cell_type": "code",
   "execution_count": null,
   "metadata": {
    "id": "Caka3hodkmf8"
   },
   "outputs": [],
   "source": []
  },
  {
   "cell_type": "code",
   "execution_count": null,
   "metadata": {
    "id": "k8rxDqpJl57L"
   },
   "outputs": [],
   "source": []
  },
  {
   "cell_type": "markdown",
   "metadata": {
    "id": "anH_LnqObB6B"
   },
   "source": [
    "### 마커 클러스터(Marker Cluster)"
   ]
  },
  {
   "cell_type": "code",
   "execution_count": null,
   "metadata": {
    "id": "zKyjxR10bESq"
   },
   "outputs": [],
   "source": []
  },
  {
   "cell_type": "markdown",
   "metadata": {
    "id": "l_hEAoTgYGIq"
   },
   "source": [
    "### Vega(베가)"
   ]
  },
  {
   "cell_type": "code",
   "execution_count": null,
   "metadata": {
    "id": "_BAuUTdmdg0y"
   },
   "outputs": [],
   "source": []
  },
  {
   "cell_type": "code",
   "execution_count": null,
   "metadata": {
    "id": "EwI4LJ6lcnpy"
   },
   "outputs": [],
   "source": []
  },
  {
   "cell_type": "markdown",
   "metadata": {
    "id": "KH4sO069WkH-"
   },
   "source": [
    "* https://raw.githubusercontent.com/python-visualization/folium/master/examples/data\n",
    "  + vis1.json - [47.3489, -124.708]\n",
    "  + vis2.json - [44.639, -124.5339]\n",
    "  + vis3.json - [46.216, -124.1280]"
   ]
  },
  {
   "cell_type": "code",
   "execution_count": null,
   "metadata": {
    "id": "z8PuJFHYztVw"
   },
   "outputs": [],
   "source": []
  },
  {
   "cell_type": "code",
   "execution_count": null,
   "metadata": {
    "id": "h0dopMQiOMpa"
   },
   "outputs": [],
   "source": []
  },
  {
   "cell_type": "markdown",
   "metadata": {
    "id": "kjG-KuLvz_Bb"
   },
   "source": [
    "## 스타일(Style)"
   ]
  },
  {
   "cell_type": "markdown",
   "metadata": {
    "id": "OfYT1rsb5Q6k"
   },
   "source": [
    "### 타일(Tiles)"
   ]
  },
  {
   "cell_type": "markdown",
   "metadata": {
    "id": "myZ0_7Hi5ZFr"
   },
   "source": [
    "* Map Tiles\n",
    "  + OpenStreetMap\n",
    "  + Stamen Terrain\n",
    "  + Stamen Toner\n",
    "  + Stamen Watercolor\n",
    "  + CartoDB positron\n",
    "  + CartoDB dark_matter"
   ]
  },
  {
   "cell_type": "code",
   "execution_count": null,
   "metadata": {
    "id": "VRjou0YM5Tv_"
   },
   "outputs": [],
   "source": []
  },
  {
   "cell_type": "markdown",
   "metadata": {
    "id": "b09TE6E4dSP7"
   },
   "source": [
    "### 위치(Position)"
   ]
  },
  {
   "cell_type": "code",
   "execution_count": null,
   "metadata": {
    "id": "Olpg9-madVhY"
   },
   "outputs": [],
   "source": []
  },
  {
   "cell_type": "code",
   "execution_count": null,
   "metadata": {
    "id": "ErGH7jpgdlma"
   },
   "outputs": [],
   "source": []
  },
  {
   "cell_type": "markdown",
   "metadata": {
    "id": "BHMUGd2Qemcz"
   },
   "source": [
    "### 터미네이터(Terminator)"
   ]
  },
  {
   "cell_type": "code",
   "execution_count": null,
   "metadata": {
    "id": "u1r53oUJep1f"
   },
   "outputs": [],
   "source": []
  },
  {
   "cell_type": "markdown",
   "metadata": {
    "id": "Y9GJGsFBe4kr"
   },
   "source": [
    "### 측정 제어(Measure Control)"
   ]
  },
  {
   "cell_type": "code",
   "execution_count": null,
   "metadata": {
    "id": "5FXyt1Sje9jL"
   },
   "outputs": [],
   "source": []
  },
  {
   "cell_type": "markdown",
   "metadata": {
    "id": "pWjmhTh0fYbE"
   },
   "source": [
    "### 그리기(Draw)"
   ]
  },
  {
   "cell_type": "code",
   "execution_count": null,
   "metadata": {
    "id": "16m10Arxfb_A"
   },
   "outputs": [],
   "source": []
  },
  {
   "cell_type": "markdown",
   "metadata": {
    "id": "D563XUe4WwcW"
   },
   "source": [
    "### 그룹(Group)"
   ]
  },
  {
   "cell_type": "code",
   "execution_count": null,
   "metadata": {
    "id": "4AOwkCM7W0KE"
   },
   "outputs": [],
   "source": []
  },
  {
   "cell_type": "markdown",
   "metadata": {
    "id": "fLOTnQjYboVX"
   },
   "source": [
    "## 듀얼맵(Dualmap)"
   ]
  },
  {
   "cell_type": "code",
   "execution_count": null,
   "metadata": {
    "id": "dgl86qk_bq2s"
   },
   "outputs": [],
   "source": []
  },
  {
   "cell_type": "code",
   "execution_count": null,
   "metadata": {
    "id": "Ot6F6HrrcFw8"
   },
   "outputs": [],
   "source": []
  },
  {
   "cell_type": "code",
   "execution_count": null,
   "metadata": {
    "id": "i7Ncdq45ciU9"
   },
   "outputs": [],
   "source": []
  },
  {
   "cell_type": "code",
   "execution_count": null,
   "metadata": {
    "id": "3J1uR0jZc-vl"
   },
   "outputs": [],
   "source": []
  },
  {
   "cell_type": "markdown",
   "metadata": {
    "id": "3pOgkGnVYrMI"
   },
   "source": [
    "## 미니맵(Minimap)"
   ]
  },
  {
   "cell_type": "code",
   "execution_count": null,
   "metadata": {
    "id": "kRiF9C70YtNA"
   },
   "outputs": [],
   "source": []
  },
  {
   "cell_type": "markdown",
   "metadata": {
    "id": "6LT-pxM3TeaW"
   },
   "source": [
    "## 히트맵(Heatmap)"
   ]
  },
  {
   "cell_type": "code",
   "execution_count": null,
   "metadata": {
    "id": "O9zzBzdjTgwb"
   },
   "outputs": [],
   "source": []
  },
  {
   "cell_type": "code",
   "execution_count": null,
   "metadata": {
    "id": "6cKLAySsAGEb"
   },
   "outputs": [],
   "source": []
  },
  {
   "cell_type": "markdown",
   "metadata": {
    "id": "trmYObJyz2F2"
   },
   "source": [
    "## GeoJson, TopoJson, Choropleth maps"
   ]
  },
  {
   "cell_type": "markdown",
   "metadata": {
    "id": "bFH7kxrzVp-j"
   },
   "source": [
    "* https://raw.githubusercontent.com/python-visualization/folium/master/examples/data\n",
    "  + us-states.json\n",
    "  + US_Unemployment_Oct2012.csv"
   ]
  },
  {
   "cell_type": "code",
   "execution_count": null,
   "metadata": {
    "id": "oxtx9qfiB5nB"
   },
   "outputs": [],
   "source": []
  },
  {
   "cell_type": "code",
   "execution_count": null,
   "metadata": {
    "id": "jX6LR0AYCcyz"
   },
   "outputs": [],
   "source": []
  },
  {
   "cell_type": "code",
   "execution_count": null,
   "metadata": {
    "id": "4XMukQVbC6KE"
   },
   "outputs": [],
   "source": []
  },
  {
   "cell_type": "code",
   "execution_count": null,
   "metadata": {
    "id": "YpH_ddArBsB3"
   },
   "outputs": [],
   "source": []
  },
  {
   "cell_type": "code",
   "execution_count": null,
   "metadata": {
    "id": "z8aldOZYzzpf"
   },
   "outputs": [],
   "source": []
  },
  {
   "cell_type": "code",
   "execution_count": null,
   "metadata": {
    "id": "k5tfWuvjz5Ij"
   },
   "outputs": [],
   "source": []
  },
  {
   "cell_type": "markdown",
   "metadata": {
    "id": "hwi-QfMZo3So"
   },
   "source": [
    "* South Korea github: https://github.com/southkorea\n",
    "* 서울 열린데이터 광장: https://data.seoul.go.kr/\n",
    "\n",
    "* 서울시 지도: https://raw.githubusercontent.com/suanlab/dataset/master/seoul_municipalities_geo_simple.json\n",
    "* 서울시 인구수: https://raw.githubusercontent.com/suanlab/dataset/master/seoul_population.csv"
   ]
  },
  {
   "cell_type": "code",
   "execution_count": null,
   "metadata": {
    "id": "58QnyODlMeZ4"
   },
   "outputs": [],
   "source": []
  },
  {
   "cell_type": "code",
   "execution_count": null,
   "metadata": {
    "id": "xJhXVpdHm_4s"
   },
   "outputs": [],
   "source": []
  },
  {
   "cell_type": "code",
   "execution_count": null,
   "metadata": {
    "id": "eTmHQ5TmEkwo"
   },
   "outputs": [],
   "source": []
  },
  {
   "cell_type": "code",
   "execution_count": null,
   "metadata": {
    "id": "pe_ZRhjLE_Z2"
   },
   "outputs": [],
   "source": []
  },
  {
   "cell_type": "code",
   "execution_count": null,
   "metadata": {
    "id": "hWngGMjOE4gU"
   },
   "outputs": [],
   "source": []
  },
  {
   "cell_type": "code",
   "execution_count": null,
   "metadata": {
    "id": "Lw5EnwseIzmV"
   },
   "outputs": [],
   "source": []
  },
  {
   "cell_type": "markdown",
   "metadata": {
    "id": "E5GRa0B_5Mjx"
   },
   "source": [
    "* South Korea github: https://github.com/southkorea\n",
    "* 국가통계포털: http://kosis.kr\n",
    "* 전국시도 지도: https://raw.githubusercontent.com/suanlab/dataset/master/skorea-provinces-2018-geo.json\n",
    "* 전국시도 인구수: https://raw.githubusercontent.com/suanlab/dataset/master/skorea_provinces_population.csv"
   ]
  },
  {
   "cell_type": "code",
   "execution_count": null,
   "metadata": {
    "id": "9_a9h0tkczDB"
   },
   "outputs": [],
   "source": []
  },
  {
   "cell_type": "code",
   "execution_count": null,
   "metadata": {
    "id": "dMpeuHI95HTG"
   },
   "outputs": [],
   "source": []
  },
  {
   "cell_type": "code",
   "execution_count": null,
   "metadata": {
    "id": "FkxegZwGFNX1"
   },
   "outputs": [],
   "source": []
  },
  {
   "cell_type": "markdown",
   "metadata": {
    "id": "Mggb32BJF3UP"
   },
   "source": [
    "* South Korea github: https://github.com/southkorea\n",
    "* 국가통계포털: http://kosis.kr\n",
    "* 행정구역 지도: https://raw.githubusercontent.com/suanlab/dataset/master/skorea-municipalities-2018-geo.json\n",
    "* 행정구역 인구수: https://raw.githubusercontent.com/suanlab/dataset/master/skorea_municipalities_population.csv"
   ]
  },
  {
   "cell_type": "code",
   "execution_count": null,
   "metadata": {
    "id": "z-_MvqSveGNX"
   },
   "outputs": [],
   "source": []
  },
  {
   "cell_type": "code",
   "execution_count": null,
   "metadata": {
    "id": "CUwclGnOF3uC"
   },
   "outputs": [],
   "source": []
  },
  {
   "cell_type": "code",
   "execution_count": null,
   "metadata": {
    "id": "P4-7BMqzLEup"
   },
   "outputs": [],
   "source": []
  },
  {
   "cell_type": "markdown",
   "metadata": {
    "id": "Y3rIC1krYdgc"
   },
   "source": [
    "* https://raw.githubusercontent.com/python-visualization/folium/master/examples/data\n",
    "  + us_county_data.csv\n",
    "  + us_counties_20m_topo.json"
   ]
  },
  {
   "cell_type": "code",
   "execution_count": null,
   "metadata": {
    "id": "8jr9arZ-hR3b"
   },
   "outputs": [],
   "source": []
  },
  {
   "cell_type": "code",
   "execution_count": null,
   "metadata": {
    "id": "zVwdHVL7z8wc"
   },
   "outputs": [],
   "source": []
  },
  {
   "cell_type": "code",
   "execution_count": null,
   "metadata": {
    "id": "hY0mbU_y0Bky"
   },
   "outputs": [],
   "source": []
  },
  {
   "cell_type": "code",
   "execution_count": null,
   "metadata": {
    "id": "3PFe1gYB0Edb"
   },
   "outputs": [],
   "source": []
  },
  {
   "cell_type": "markdown",
   "metadata": {
    "id": "O8Cy3xtdMmDF"
   },
   "source": [
    "## 대화형(Interactive)\n",
    "\n",
    "* OpenStreetMap\n",
    "* Stamen Terrain\n",
    "* Stamen Toner\n",
    "* Stamen Watercolor\n",
    "* CartoDB positron\n",
    "* CartoDB dark_matter"
   ]
  },
  {
   "cell_type": "code",
   "execution_count": null,
   "metadata": {
    "id": "a9swc-37Mhzu"
   },
   "outputs": [],
   "source": []
  },
  {
   "cell_type": "markdown",
   "metadata": {
    "id": "PHLpfn2ZRAI8"
   },
   "source": [
    " ## 참고문헌\n",
    "\n",
    " * https://python-visualization.github.io/folium/"
   ]
  }
 ],
 "metadata": {
  "colab": {
   "collapsed_sections": [],
   "name": "_Folium 한번에 제대로 배우기.ipynb",
   "provenance": [],
   "toc_visible": true
  },
  "kernelspec": {
   "display_name": "Python 3 (ipykernel)",
   "language": "python",
   "name": "python3"
  },
  "language_info": {
   "codemirror_mode": {
    "name": "ipython",
    "version": 3
   },
   "file_extension": ".py",
   "mimetype": "text/x-python",
   "name": "python",
   "nbconvert_exporter": "python",
   "pygments_lexer": "ipython3",
   "version": "3.9.7"
  }
 },
 "nbformat": 4,
 "nbformat_minor": 1
}

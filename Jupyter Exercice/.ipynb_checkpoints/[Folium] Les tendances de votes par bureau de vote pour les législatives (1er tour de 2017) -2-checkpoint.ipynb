{
 "cells": [
  {
   "cell_type": "code",
   "execution_count": 1,
   "id": "779f9e4f",
   "metadata": {},
   "outputs": [],
   "source": [
    "# import pandas as pd"
   ]
  },
  {
   "cell_type": "code",
   "execution_count": 2,
   "id": "24146b3b",
   "metadata": {},
   "outputs": [],
   "source": [
    "# file_list=['df_voix_1_1','df_voix_2_1','df_voix_3_1','df_voix_4_1','df_voix_5_1','df_voix_6_1','df_voix_7_1','df_voix_7_to_0',\n",
    "#          'df_voix_8','df_voix_8_1','df_voix_9','df_voix_9_1','df_voix_10','df_voix_10_1','df_voix_11','df_voix_11_1','df_voix_12',\n",
    "#          'df_voix_13']"
   ]
  },
  {
   "cell_type": "code",
   "execution_count": 3,
   "id": "fdedccea",
   "metadata": {},
   "outputs": [],
   "source": [
    "# def readDataFrame(file_name):\n",
    "#     globals()['excel_'+file_name]=pd.ExcelFile('DataFrame pour les législatives (1er tour de 2017)/'+file_name+'.xlsx')\n",
    "#     globals()[file_name] = pd.read_excel(globals()['excel_'+file_name])\n",
    "    \n",
    "    \n",
    "# for file_name in file_list:\n",
    "#     readDataFrame(file_name)"
   ]
  },
  {
   "cell_type": "code",
   "execution_count": 4,
   "id": "cdf09762",
   "metadata": {},
   "outputs": [],
   "source": [
    "# df_voix_1_1.columns.values\n"
   ]
  },
  {
   "cell_type": "code",
   "execution_count": 5,
   "id": "363ec7a3",
   "metadata": {},
   "outputs": [],
   "source": [
    "# import folium\n",
    "# from folium.plugins import FastMarkerCluster\n",
    "\n",
    "# map = folium.Map(location=[46.91160617052484, 2.153649265809747]\n",
    "#                        , zoom_start=5.5)\n",
    "\n",
    "# for file_name in file_list:\n",
    "\n",
    "#     callback = ('function (row) {' \n",
    "#                     'var marker = L.marker(new L.LatLng(row[8], row[7]), {color: \"blue\"});'\n",
    "#                     'var icon = L.AwesomeMarkers.icon({'\n",
    "#                     \"icon: 'info-sign',\"\n",
    "#                     \"iconColor: 'white',\"\n",
    "#                     \"markerColor: 'green',\"\n",
    "#                     \"prefix: 'glyphicon',\"\n",
    "#                     \"extraClasses: 'fa-rotate-0'\"\n",
    "#                         '});'\n",
    "#                     'marker.setIcon(icon);'\n",
    "#                     \"var popup = L.popup({maxWidth: '700'});\"\n",
    "#                     \"const display_text = {premier: row[6]};\"\n",
    "#                     \"var mytext = $(`<div>${display_text.premier}</div>`)[0];\"\n",
    "#                     \"popup.setContent(mytext);\"\n",
    "#                     \"marker.bindPopup(popup);\"\n",
    "#                     'return marker};')\n",
    "\n",
    "\n",
    "#     map.add_child(FastMarkerCluster(globals()[file_name][globals()[file_name].columns.values].values.tolist(), callback=callback))\n",
    "        \n",
    "# map"
   ]
  },
  {
   "cell_type": "code",
   "execution_count": null,
   "id": "f7a8bd33",
   "metadata": {},
   "outputs": [],
   "source": []
  }
 ],
 "metadata": {
  "kernelspec": {
   "display_name": "Python 3 (ipykernel)",
   "language": "python",
   "name": "python3"
  },
  "language_info": {
   "codemirror_mode": {
    "name": "ipython",
    "version": 3
   },
   "file_extension": ".py",
   "mimetype": "text/x-python",
   "name": "python",
   "nbconvert_exporter": "python",
   "pygments_lexer": "ipython3",
   "version": "3.9.7"
  }
 },
 "nbformat": 4,
 "nbformat_minor": 5
}

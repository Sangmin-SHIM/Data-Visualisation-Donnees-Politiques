{
 "cells": [
  {
   "cell_type": "code",
   "execution_count": 1,
   "id": "e5e9d8bc",
   "metadata": {},
   "outputs": [
    {
     "name": "stdout",
     "output_type": "stream",
     "text": [
      "Requirement already satisfied: plotly in c:\\users\\ssm47\\anaconda3\\lib\\site-packages (5.5.0)Note: you may need to restart the kernel to use updated packages.\n",
      "Requirement already satisfied: six in c:\\users\\ssm47\\anaconda3\\lib\\site-packages (from plotly) (1.16.0)\n",
      "Requirement already satisfied: tenacity>=6.2.0 in c:\\users\\ssm47\\anaconda3\\lib\\site-packages (from plotly) (8.0.1)\n",
      "\n"
     ]
    }
   ],
   "source": [
    "pip install plotly"
   ]
  },
  {
   "cell_type": "code",
   "execution_count": 1,
   "id": "fa941fc9",
   "metadata": {},
   "outputs": [],
   "source": [
    "import plotly.express as px\n",
    "import pandas as pd\n",
    "import plotly\n",
    "from pprint import pprint"
   ]
  },
  {
   "cell_type": "markdown",
   "id": "f88eb1cc",
   "metadata": {},
   "source": [
    "# Pandas"
   ]
  },
  {
   "cell_type": "code",
   "execution_count": 2,
   "id": "ea078959",
   "metadata": {},
   "outputs": [],
   "source": [
    "excel_tour1 = pd.ExcelFile('Presidentielle_2017_Resultats_Tour_1_md.xls')\n",
    "\n",
    "# print(len(dataframe_region[1]),len(dataframe_region))\n",
    "# print(type(dataframe_region[1]),type(dataframe_region))\n",
    "# print(dataframe_region[1],dataframe_region)"
   ]
  },
  {
   "cell_type": "code",
   "execution_count": 3,
   "id": "c97cebd6",
   "metadata": {},
   "outputs": [],
   "source": [
    "dataframe_region=pd.read_excel(excel_tour1,sheet_name = [1])\n",
    "\n",
    "\n",
    "for i in range(len(dataframe_region[1])):\n",
    "     globals()['resultats_'+ str(dataframe_region[1].iloc[i][\"Code de la région\"])] = dataframe_region[1].iloc[i]\n",
    "     # variables : resultats_11, resultats_44, resultats_75 ... resultats_6   \n",
    "     # Series(1 Array) -> DataFrame(2 Arrays)\n",
    "     globals()['resultats_'+ str(dataframe_region[1].iloc[i][\"Code de la région\"])] = pd.DataFrame({'Nom' : {0 : globals()['resultats_'+ str(dataframe_region[1].iloc[i][\"Code de la région\"])]['Nom'],\n",
    "                                                                                                1 : globals()['resultats_'+ str(dataframe_region[1].iloc[i][\"Code de la région\"])]['Nom.1'],\n",
    "                                                                                                2 : globals()['resultats_'+ str(dataframe_region[1].iloc[i][\"Code de la région\"])]['Nom.2'],\n",
    "                                                                                                3 : globals()['resultats_'+ str(dataframe_region[1].iloc[i][\"Code de la région\"])]['Nom.3'],\n",
    "                                                                                                4 : globals()['resultats_'+ str(dataframe_region[1].iloc[i][\"Code de la région\"])]['Nom.4'],\n",
    "                                                                                                5 : globals()['resultats_'+ str(dataframe_region[1].iloc[i][\"Code de la région\"])]['Nom.5'],\n",
    "                                                                                                6 : globals()['resultats_'+ str(dataframe_region[1].iloc[i][\"Code de la région\"])]['Nom.6'],\n",
    "                                                                                                7 : globals()['resultats_'+ str(dataframe_region[1].iloc[i][\"Code de la région\"])]['Nom.7'],\n",
    "                                                                                                8 : globals()['resultats_'+ str(dataframe_region[1].iloc[i][\"Code de la région\"])]['Nom.8'],\n",
    "                                                                                                9 : globals()['resultats_'+ str(dataframe_region[1].iloc[i][\"Code de la région\"])]['Nom.9'],\n",
    "                                                                                                10 : globals()['resultats_'+ str(dataframe_region[1].iloc[i][\"Code de la région\"])]['Nom.10']\n",
    "                                                                                                },\n",
    "                                                                                       'Prénom' : {0 : globals()['resultats_'+ str(dataframe_region[1].iloc[i][\"Code de la région\"])]['Prénom'],\n",
    "                                                                                                1 : globals()['resultats_'+ str(dataframe_region[1].iloc[i][\"Code de la région\"])]['Prénom.1'],\n",
    "                                                                                                2 : globals()['resultats_'+ str(dataframe_region[1].iloc[i][\"Code de la région\"])]['Prénom.2'],\n",
    "                                                                                                3 : globals()['resultats_'+ str(dataframe_region[1].iloc[i][\"Code de la région\"])]['Prénom.3'],\n",
    "                                                                                                4 : globals()['resultats_'+ str(dataframe_region[1].iloc[i][\"Code de la région\"])]['Prénom.4'],\n",
    "                                                                                                5 : globals()['resultats_'+ str(dataframe_region[1].iloc[i][\"Code de la région\"])]['Prénom.5'],\n",
    "                                                                                                6 : globals()['resultats_'+ str(dataframe_region[1].iloc[i][\"Code de la région\"])]['Prénom.6'],\n",
    "                                                                                                7 : globals()['resultats_'+ str(dataframe_region[1].iloc[i][\"Code de la région\"])]['Prénom.7'],\n",
    "                                                                                                8 : globals()['resultats_'+ str(dataframe_region[1].iloc[i][\"Code de la région\"])]['Prénom.8'],\n",
    "                                                                                                9 : globals()['resultats_'+ str(dataframe_region[1].iloc[i][\"Code de la région\"])]['Prénom.9'],\n",
    "                                                                                                10 : globals()['resultats_'+ str(dataframe_region[1].iloc[i][\"Code de la région\"])]['Prénom.10']\n",
    "                                                                                                },\n",
    "                                                                                       '% Voix/Ins' : {0 : globals()['resultats_'+ str(dataframe_region[1].iloc[i][\"Code de la région\"])]['% Voix/Ins'],\n",
    "                                                                                                1 : globals()['resultats_'+ str(dataframe_region[1].iloc[i][\"Code de la région\"])]['% Voix/Ins.1'],\n",
    "                                                                                                2 : globals()['resultats_'+ str(dataframe_region[1].iloc[i][\"Code de la région\"])]['% Voix/Ins.2'],\n",
    "                                                                                                3 : globals()['resultats_'+ str(dataframe_region[1].iloc[i][\"Code de la région\"])]['% Voix/Ins.3'],\n",
    "                                                                                                4 : globals()['resultats_'+ str(dataframe_region[1].iloc[i][\"Code de la région\"])]['% Voix/Ins.4'],\n",
    "                                                                                                5 : globals()['resultats_'+ str(dataframe_region[1].iloc[i][\"Code de la région\"])]['% Voix/Ins.5'],\n",
    "                                                                                                6 : globals()['resultats_'+ str(dataframe_region[1].iloc[i][\"Code de la région\"])]['% Voix/Ins.6'],\n",
    "                                                                                                7 : globals()['resultats_'+ str(dataframe_region[1].iloc[i][\"Code de la région\"])]['% Voix/Ins.7'],\n",
    "                                                                                                8 : globals()['resultats_'+ str(dataframe_region[1].iloc[i][\"Code de la région\"])]['% Voix/Ins.8'],\n",
    "                                                                                                9 : globals()['resultats_'+ str(dataframe_region[1].iloc[i][\"Code de la région\"])]['% Voix/Ins.9'],\n",
    "                                                                                                10 : globals()['resultats_'+ str(dataframe_region[1].iloc[i][\"Code de la région\"])]['% Voix/Ins.10']\n",
    "                                                                                                }\n",
    "                                                                                      })"
   ]
  },
  {
   "cell_type": "code",
   "execution_count": 347,
   "id": "33eb38d3",
   "metadata": {},
   "outputs": [],
   "source": [
    "# for i in range(len(dataframe_region[1])):\n",
    "#     resultats = globals()['resultats_'+ str(dataframe_region[1].iloc[i][\"Code de la région\"])]\n",
    "#     fig = px.pie(resultats, values='% Voix/Ins', names='Nom', title='% Voix/Ins')\n",
    "#     fig.update_traces(textinfo='value')\n",
    "#     fig.write_html(\"resultats/resultats_\"+str(dataframe_region[1].iloc[i][\"Code de la région\"])+\".html\")\n"
   ]
  },
  {
   "cell_type": "code",
   "execution_count": 4,
   "id": "2bf100a3",
   "metadata": {
    "scrolled": false
   },
   "outputs": [],
   "source": [
    "for i in range(len(dataframe_region[1])):\n",
    "    resultats = globals()['resultats_'+ str(dataframe_region[1].iloc[i][\"Code de la région\"])]\n",
    "    fig = px.pie(resultats, values='% Voix/Ins', names='Nom', title='% Voix/Ins',\n",
    "                 color='Nom',\n",
    "                 color_discrete_map= {'MACRON' : '#d45087',\n",
    "                                     'MÉLENCHON' : '#665191',\n",
    "                                     'LE PEN' : '#003f5c',\n",
    "                                     'HAMON' : 'yellow',\n",
    "                                     'DUPONT' : 'grey',\n",
    "                                     'ARTHAUD' : '#f95d6a',\n",
    "                                     'POUTOU' : '#003f5c', \n",
    "                                     'CHEMINADE' : '#ff7c43', \n",
    "                                     'LASSALLE' : '#ffa600',\n",
    "                                     'ASSELINEAU' : '#a05195',\n",
    "                                     'FILLON' : '#2f4b7c'})\n",
    "   \n",
    "    \n",
    "    fig.update_traces(textinfo='value')\n",
    "    fig.write_html(\"resultats/resultats_\"+str(i)+\".html\")\n",
    "#   fig.show()\n",
    "\n"
   ]
  },
  {
   "cell_type": "code",
   "execution_count": 9,
   "id": "d33663d5",
   "metadata": {},
   "outputs": [
    {
     "data": {
      "text/plain": [
       "'<iframe id=\"igraph\" scrolling=\"no\" style=\"border:none;\" seamless=\"seamless\" src=\"https://plotly.com/~chris/1638.embed\" height=\"525\" width=\"100%\"></iframe>'"
      ]
     },
     "execution_count": 9,
     "metadata": {},
     "output_type": "execute_result"
    }
   ],
   "source": [
    "import chart_studio.tools as tls\n",
    "\n",
    "tls.get_embed('https://plotly.com/~chris/1638')"
   ]
  },
  {
   "cell_type": "code",
   "execution_count": 6,
   "id": "92f04b80",
   "metadata": {},
   "outputs": [
    {
     "name": "stdout",
     "output_type": "stream",
     "text": [
      "Collecting chart_studio\n",
      "  Downloading chart_studio-1.1.0-py3-none-any.whl (64 kB)\n",
      "Requirement already satisfied: plotly in c:\\users\\ssm47\\anaconda3\\lib\\site-packages (from chart_studio) (5.5.0)\n",
      "Requirement already satisfied: six in c:\\users\\ssm47\\anaconda3\\lib\\site-packages (from chart_studio) (1.16.0)\n",
      "Requirement already satisfied: requests in c:\\users\\ssm47\\anaconda3\\lib\\site-packages (from chart_studio) (2.26.0)\n",
      "Collecting retrying>=1.3.3\n",
      "  Downloading retrying-1.3.3.tar.gz (10 kB)\n",
      "Requirement already satisfied: tenacity>=6.2.0 in c:\\users\\ssm47\\anaconda3\\lib\\site-packages (from plotly->chart_studio) (8.0.1)\n",
      "Requirement already satisfied: certifi>=2017.4.17 in c:\\users\\ssm47\\anaconda3\\lib\\site-packages (from requests->chart_studio) (2021.10.8)\n",
      "Requirement already satisfied: idna<4,>=2.5 in c:\\users\\ssm47\\anaconda3\\lib\\site-packages (from requests->chart_studio) (3.2)\n",
      "Requirement already satisfied: urllib3<1.27,>=1.21.1 in c:\\users\\ssm47\\anaconda3\\lib\\site-packages (from requests->chart_studio) (1.26.7)\n",
      "Requirement already satisfied: charset-normalizer~=2.0.0 in c:\\users\\ssm47\\anaconda3\\lib\\site-packages (from requests->chart_studio) (2.0.4)\n",
      "Building wheels for collected packages: retrying\n",
      "  Building wheel for retrying (setup.py): started\n",
      "  Building wheel for retrying (setup.py): finished with status 'done'\n",
      "  Created wheel for retrying: filename=retrying-1.3.3-py3-none-any.whl size=11448 sha256=a2a3f3707557a6c3f320f65ae54ea9f95e08ef938d94969ce8741afb72fffffb\n",
      "  Stored in directory: c:\\users\\ssm47\\appdata\\local\\pip\\cache\\wheels\\ce\\18\\7f\\e9527e3e66db1456194ac7f61eb3211068c409edceecff2d31\n",
      "Successfully built retrying\n",
      "Installing collected packages: retrying, chart-studio\n",
      "Successfully installed chart-studio-1.1.0 retrying-1.3.3\n",
      "Note: you may need to restart the kernel to use updated packages.\n"
     ]
    }
   ],
   "source": [
    "pip install chart_studio"
   ]
  }
 ],
 "metadata": {
  "kernelspec": {
   "display_name": "Python 3 (ipykernel)",
   "language": "python",
   "name": "python3"
  },
  "language_info": {
   "codemirror_mode": {
    "name": "ipython",
    "version": 3
   },
   "file_extension": ".py",
   "mimetype": "text/x-python",
   "name": "python",
   "nbconvert_exporter": "python",
   "pygments_lexer": "ipython3",
   "version": "3.9.7"
  }
 },
 "nbformat": 4,
 "nbformat_minor": 5
}

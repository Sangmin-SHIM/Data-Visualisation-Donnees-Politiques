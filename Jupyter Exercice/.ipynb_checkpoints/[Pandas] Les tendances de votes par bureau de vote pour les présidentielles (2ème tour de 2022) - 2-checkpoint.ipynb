{
 "cells": [
  {
   "cell_type": "code",
   "execution_count": 1,
   "id": "05856a5b",
   "metadata": {},
   "outputs": [],
   "source": [
    "import pandas as pd"
   ]
  },
  {
   "cell_type": "code",
   "execution_count": 2,
   "id": "bb4403ef",
   "metadata": {},
   "outputs": [],
   "source": [
    "excel_final=pd.ExcelFile('Les tendances de votes avec cordonnées pour les présidentielles (2ème tour de 2017).xlsx')"
   ]
  },
  {
   "cell_type": "code",
   "execution_count": 3,
   "id": "ab2a66e2",
   "metadata": {},
   "outputs": [],
   "source": [
    "df_commune = pd.read_excel(excel_final)"
   ]
  },
  {
   "cell_type": "code",
   "execution_count": 61,
   "id": "7b3904ec",
   "metadata": {},
   "outputs": [
    {
     "name": "stderr",
     "output_type": "stream",
     "text": [
      "C:\\Users\\ssm47\\anaconda3\\lib\\site-packages\\pandas\\core\\indexing.py:1817: SettingWithCopyWarning: \n",
      "A value is trying to be set on a copy of a slice from a DataFrame.\n",
      "Try using .loc[row_indexer,col_indexer] = value instead\n",
      "\n",
      "See the caveats in the documentation: https://pandas.pydata.org/pandas-docs/stable/user_guide/indexing.html#returning-a-view-versus-a-copy\n",
      "  self._setitem_single_column(loc, value, pi)\n"
     ]
    }
   ],
   "source": [
    "# Le Plus Voté - Nom, Prénom et % Voix / Ins\n",
    "# ------------------------------------------\n",
    "\n",
    "df_voix_exp = df_commune[['% Voix/Exp', '% Voix/Exp.1']]\n",
    "\n",
    "class Candidat:\n",
    "    def __init__(self, nom, prenom):\n",
    "        self.nom = nom\n",
    "        self.prenom = prenom\n",
    "\n",
    "candidat=[]\n",
    "\n",
    "candidat.append(Candidat('MACRON','Emmanuel'))\n",
    "candidat.append(Candidat('LE PEN','Marine'))\n",
    "\n",
    "df_commune['NOM_candidat_le_plus_voté']=df_voix_exp.idxmax(axis=1).str.replace('% Voix/Exp','Nom')\n",
    "df_commune['PRENOM_candidat_le_plus_voté']=df_voix_exp.idxmax(axis=1).str.replace('% Voix/Exp','Prénom')\n",
    "df_commune['% Voix/Exp_le_plus_voté']=df_voix_exp.max(axis=1)\n",
    "\n",
    "df_commune.loc[(df_commune.NOM_candidat_le_plus_voté =='Nom'),'NOM_candidat_le_plus_voté'] = candidat[0].nom\n",
    "df_commune.loc[(df_commune.PRENOM_candidat_le_plus_voté =='Prénom'),'PRENOM_candidat_le_plus_voté'] = candidat[0].prenom\n",
    "\n",
    "df_commune.loc[(df_commune.NOM_candidat_le_plus_voté =='Nom.1'),'NOM_candidat_le_plus_voté'] = candidat[1].nom\n",
    "df_commune.loc[(df_commune.PRENOM_candidat_le_plus_voté =='Prénom.1'),'PRENOM_candidat_le_plus_voté'] = candidat[1].prenom\n",
    "\n",
    "# df.loc[(df.Event == 'Dance'),'Event']='Hip-Hop'\n",
    "df_commune.to_excel('Les tendances de votes avec cordonnées (2ème tour de 2017).xlsx')"
   ]
  }
 ],
 "metadata": {
  "kernelspec": {
   "display_name": "Python 3 (ipykernel)",
   "language": "python",
   "name": "python3"
  },
  "language_info": {
   "codemirror_mode": {
    "name": "ipython",
    "version": 3
   },
   "file_extension": ".py",
   "mimetype": "text/x-python",
   "name": "python",
   "nbconvert_exporter": "python",
   "pygments_lexer": "ipython3",
   "version": "3.9.7"
  }
 },
 "nbformat": 4,
 "nbformat_minor": 5
}

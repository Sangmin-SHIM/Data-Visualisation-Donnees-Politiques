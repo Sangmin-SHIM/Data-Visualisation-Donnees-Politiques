{
 "cells": [
  {
   "cell_type": "code",
   "execution_count": 1,
   "id": "779f9e4f",
   "metadata": {},
   "outputs": [],
   "source": [
    "import pandas as pd"
   ]
  },
  {
   "cell_type": "code",
   "execution_count": 2,
   "id": "fdedccea",
   "metadata": {},
   "outputs": [],
   "source": [
    "excel_final=pd.ExcelFile('DataFrame pour les législatives (1er tour de 2012)/Les tendances de votes avec cordonnées pour les législatives (1er tour de 2012)_md.xlsx')"
   ]
  },
  {
   "cell_type": "code",
   "execution_count": 3,
   "id": "cdf09762",
   "metadata": {},
   "outputs": [],
   "source": [
    "df_commune = pd.read_excel(excel_final)"
   ]
  },
  {
   "cell_type": "code",
   "execution_count": 24,
   "id": "1c278a29",
   "metadata": {},
   "outputs": [],
   "source": [
    "df_modified=df_commune.groupby(['commune_code', 'N° de bureau de vote','longitude','latitude','Inscrits','Votants','Exprimés'])[['N° de dépôt du candidat','Nom du candidat','Prénom du candidat','Code nuance du candidat','Nombre de voix du candidat','% Voix/Exp']].first()\n",
    "df_modified\n",
    "df_modified.to_excel('DataFrame pour les législatives (1er tour de 2012)/Les tendances de votes avec cordonnées pour les législatives (1er tour de 2012)_md3.xlsx')\n",
    "# df_commune.groupby(['commune_code', 'N° de bureau de vote'])[['Nom du candidat','Prénom du candidat']].nth(list(range(5)))"
   ]
  }
 ],
 "metadata": {
  "kernelspec": {
   "display_name": "Python 3 (ipykernel)",
   "language": "python",
   "name": "python3"
  },
  "language_info": {
   "codemirror_mode": {
    "name": "ipython",
    "version": 3
   },
   "file_extension": ".py",
   "mimetype": "text/x-python",
   "name": "python",
   "nbconvert_exporter": "python",
   "pygments_lexer": "ipython3",
   "version": "3.9.7"
  }
 },
 "nbformat": 4,
 "nbformat_minor": 5
}

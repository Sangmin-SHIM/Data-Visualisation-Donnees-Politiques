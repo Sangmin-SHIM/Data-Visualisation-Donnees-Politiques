{
 "cells": [
  {
   "cell_type": "code",
   "execution_count": 1,
   "id": "779f9e4f",
   "metadata": {},
   "outputs": [],
   "source": [
    "import pandas as pd"
   ]
  },
  {
   "cell_type": "code",
   "execution_count": 2,
   "id": "fdedccea",
   "metadata": {},
   "outputs": [],
   "source": [
    "excel_final=pd.ExcelFile('Les tendances de votes avec cordonnées pour les législatives (1er tour de 2017).xlsx')"
   ]
  },
  {
   "cell_type": "code",
   "execution_count": 3,
   "id": "cdf09762",
   "metadata": {},
   "outputs": [],
   "source": [
    "df_commune = pd.read_excel(excel_final)"
   ]
  },
  {
   "cell_type": "code",
   "execution_count": 65,
   "id": "1c278a29",
   "metadata": {},
   "outputs": [
    {
     "data": {
      "text/plain": [
       "567"
      ]
     },
     "execution_count": 65,
     "metadata": {},
     "output_type": "execute_result"
    }
   ],
   "source": [
    "# len(df_commune[df_commune['Nom.7'].notnull()].index.tolist())"
   ]
  },
  {
   "cell_type": "code",
   "execution_count": 14,
   "id": "afbb2638",
   "metadata": {},
   "outputs": [],
   "source": [
    "# number = 24, 23, 22, 21, ... , 8\n",
    "\n",
    "def makeDataFrame(number):\n",
    "    global df_commune\n",
    "    \n",
    "    # 1) Make a new DataFrame \n",
    "    index_list = df_commune[df_commune['Nom.'+str(number)].notnull()].index.tolist()\n",
    "    globals()['df_voix_'+str(number)] = pd.DataFrame(df_commune, index=index_list)\n",
    "    \n",
    "    # 2) df_commune - df_new_dataframe\n",
    "    df = pd.concat([df_commune, globals()['df_voix_'+str(number)]])\n",
    "    df = df.drop_duplicates(keep=False)\n",
    "    df_commune = df\n",
    "    \n",
    "    # 3) Make Excel File\n",
    "    globals()['df_voix_'+str(number)].to_excel('DataFrame pour les législatives (1er tour de 2017)/df_voix_'+str(number)+'.xlsx')"
   ]
  },
  {
   "cell_type": "code",
   "execution_count": 62,
   "id": "a6395210",
   "metadata": {},
   "outputs": [],
   "source": [
    "for number in range(24,6,-1):\n",
    "    if number == 6:\n",
    "        df_commune.to_excel('DataFrame pour les législatives (1er tour de 2017)/df_voix_7_to_0.xlsx')\n",
<<<<<<< HEAD
    "        break\n",
=======
>>>>>>> c4c34ccd131a537db4d3d4fa5e6efaa5de990ddf
    "    makeDataFrame(number)"
   ]
  }
 ],
 "metadata": {
  "kernelspec": {
   "display_name": "Python 3 (ipykernel)",
   "language": "python",
   "name": "python3"
  },
  "language_info": {
   "codemirror_mode": {
    "name": "ipython",
    "version": 3
   },
   "file_extension": ".py",
   "mimetype": "text/x-python",
   "name": "python",
   "nbconvert_exporter": "python",
   "pygments_lexer": "ipython3",
   "version": "3.9.7"
  }
 },
 "nbformat": 4,
 "nbformat_minor": 5
}
